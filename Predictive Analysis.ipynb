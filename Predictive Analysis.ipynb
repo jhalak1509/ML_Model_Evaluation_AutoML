{
  "cells": [
    {
      "cell_type": "markdown",
      "metadata": {
        "id": "eKJ6j4t-IEPv"
      },
      "source": [
        "# ML Data Cleaning and Feature Selection About Dataset\n",
        "\n",
        "Name: Jhalak Surve"
      ]
    },
    {
      "cell_type": "markdown",
      "metadata": {
        "id": "MV1saLXwRaba"
      },
      "source": [
        "**Background**"
      ]
    },
    {
      "cell_type": "markdown",
      "metadata": {
        "id": "RCtHmakbRXa1"
      },
      "source": [
        "Flight delays are significant concerns in aviation industries, leading to revenue loss, fuel loss, and customer dissatisfaction. It creates fear among passengers taking a connecting flight, whereby the delay from the first flight could potentially cause them to miss the subsequent flight. Therefore, this scenario is a factor of motivation for this study. With a reliable method to predict flight delays, the event mentioned in the previous context could either be prevented or better managed.\n",
        "\n"
      ]
    },
    {
      "cell_type": "markdown",
      "metadata": {
        "id": "POWeoe87Rdsn"
      },
      "source": [
        "**About the dataset**"
      ]
    },
    {
      "cell_type": "markdown",
      "metadata": {
        "id": "I3SPKZ_oR3zQ"
      },
      "source": [
        "**Target Variable:**\n",
        "\n",
        "**Delay**: Will the flight get delayed or not"
      ]
    },
    {
      "cell_type": "markdown",
      "metadata": {
        "id": "YaByJbQwSBvb"
      },
      "source": [
        "**Predictor Variables**\n",
        "\n",
        "**Airline**: Which Airline the flight is from\n",
        "\n",
        "**Flight**: Defines the flight number\n",
        "\n",
        "**AirportFrom**: Source Airport\n",
        "\n",
        "**AirportTo**: Destination Airport\n",
        "\n",
        "**DayOfWeek**: Which day of the week it is\n",
        "\n",
        "**Time**: Time of Departure\n",
        "\n",
        "**Length**: Duration of the flight\n"
      ]
    },
    {
      "cell_type": "markdown",
      "metadata": {
        "id": "OmLYrLaRHsVO"
      },
      "source": [
        "**Importing the necessary libraries**"
      ]
    },
    {
      "cell_type": "code",
      "execution_count": 217,
      "metadata": {
        "id": "5ZTr5kiazjFd"
      },
      "outputs": [],
      "source": [
        "# Importing the Libraries\n",
        "\n",
        "import pandas as pd\n",
        "import numpy as np\n",
        "import matplotlib.pyplot as plt\n",
        "import seaborn as sns\n",
        "from sklearn.model_selection import train_test_split\n",
        "from sklearn.ensemble import RandomForestClassifier\n",
        "from sklearn.metrics import accuracy_score, confusion_matrix\n",
        "from sklearn.impute import SimpleImputer\n",
        "from sklearn.preprocessing import LabelEncoder\n",
        "from sklearn.metrics import mean_squared_error\n",
        "from sklearn.metrics import mean_absolute_error\n",
        "from math import sqrt\n",
        "from sklearn.metrics import r2_score\n",
        "from sklearn.preprocessing import StandardScaler"
      ]
    },
    {
      "cell_type": "code",
      "execution_count": 218,
      "metadata": {
        "colab": {
          "base_uri": "https://localhost:8080/",
          "height": 206
        },
        "id": "Sb1oU4jg-F90",
        "outputId": "77f75534-5ad8-40df-a867-12f51c4f1f9f"
      },
      "outputs": [
        {
          "data": {
            "text/html": [
              "\n",
              "  <div id=\"df-c10917b8-a35e-499a-91fe-4973be881d27\" class=\"colab-df-container\">\n",
              "    <div>\n",
              "<style scoped>\n",
              "    .dataframe tbody tr th:only-of-type {\n",
              "        vertical-align: middle;\n",
              "    }\n",
              "\n",
              "    .dataframe tbody tr th {\n",
              "        vertical-align: top;\n",
              "    }\n",
              "\n",
              "    .dataframe thead th {\n",
              "        text-align: right;\n",
              "    }\n",
              "</style>\n",
              "<table border=\"1\" class=\"dataframe\">\n",
              "  <thead>\n",
              "    <tr style=\"text-align: right;\">\n",
              "      <th></th>\n",
              "      <th>id</th>\n",
              "      <th>Airline</th>\n",
              "      <th>Flight</th>\n",
              "      <th>AirportFrom</th>\n",
              "      <th>AirportTo</th>\n",
              "      <th>DayOfWeek</th>\n",
              "      <th>Time</th>\n",
              "      <th>Length</th>\n",
              "      <th>Delay</th>\n",
              "    </tr>\n",
              "  </thead>\n",
              "  <tbody>\n",
              "    <tr>\n",
              "      <th>0</th>\n",
              "      <td>1</td>\n",
              "      <td>CO</td>\n",
              "      <td>269</td>\n",
              "      <td>SFO</td>\n",
              "      <td>IAH</td>\n",
              "      <td>3</td>\n",
              "      <td>15</td>\n",
              "      <td>205</td>\n",
              "      <td>1</td>\n",
              "    </tr>\n",
              "    <tr>\n",
              "      <th>1</th>\n",
              "      <td>2</td>\n",
              "      <td>US</td>\n",
              "      <td>1558</td>\n",
              "      <td>PHX</td>\n",
              "      <td>CLT</td>\n",
              "      <td>3</td>\n",
              "      <td>15</td>\n",
              "      <td>222</td>\n",
              "      <td>1</td>\n",
              "    </tr>\n",
              "    <tr>\n",
              "      <th>2</th>\n",
              "      <td>3</td>\n",
              "      <td>AA</td>\n",
              "      <td>2400</td>\n",
              "      <td>LAX</td>\n",
              "      <td>DFW</td>\n",
              "      <td>3</td>\n",
              "      <td>20</td>\n",
              "      <td>165</td>\n",
              "      <td>1</td>\n",
              "    </tr>\n",
              "    <tr>\n",
              "      <th>3</th>\n",
              "      <td>4</td>\n",
              "      <td>AA</td>\n",
              "      <td>2466</td>\n",
              "      <td>SFO</td>\n",
              "      <td>DFW</td>\n",
              "      <td>3</td>\n",
              "      <td>20</td>\n",
              "      <td>195</td>\n",
              "      <td>1</td>\n",
              "    </tr>\n",
              "    <tr>\n",
              "      <th>4</th>\n",
              "      <td>5</td>\n",
              "      <td>AS</td>\n",
              "      <td>108</td>\n",
              "      <td>ANC</td>\n",
              "      <td>SEA</td>\n",
              "      <td>3</td>\n",
              "      <td>30</td>\n",
              "      <td>202</td>\n",
              "      <td>0</td>\n",
              "    </tr>\n",
              "  </tbody>\n",
              "</table>\n",
              "</div>\n",
              "    <div class=\"colab-df-buttons\">\n",
              "\n",
              "  <div class=\"colab-df-container\">\n",
              "    <button class=\"colab-df-convert\" onclick=\"convertToInteractive('df-c10917b8-a35e-499a-91fe-4973be881d27')\"\n",
              "            title=\"Convert this dataframe to an interactive table.\"\n",
              "            style=\"display:none;\">\n",
              "\n",
              "  <svg xmlns=\"http://www.w3.org/2000/svg\" height=\"24px\" viewBox=\"0 -960 960 960\">\n",
              "    <path d=\"M120-120v-720h720v720H120Zm60-500h600v-160H180v160Zm220 220h160v-160H400v160Zm0 220h160v-160H400v160ZM180-400h160v-160H180v160Zm440 0h160v-160H620v160ZM180-180h160v-160H180v160Zm440 0h160v-160H620v160Z\"/>\n",
              "  </svg>\n",
              "    </button>\n",
              "\n",
              "  <style>\n",
              "    .colab-df-container {\n",
              "      display:flex;\n",
              "      gap: 12px;\n",
              "    }\n",
              "\n",
              "    .colab-df-convert {\n",
              "      background-color: #E8F0FE;\n",
              "      border: none;\n",
              "      border-radius: 50%;\n",
              "      cursor: pointer;\n",
              "      display: none;\n",
              "      fill: #1967D2;\n",
              "      height: 32px;\n",
              "      padding: 0 0 0 0;\n",
              "      width: 32px;\n",
              "    }\n",
              "\n",
              "    .colab-df-convert:hover {\n",
              "      background-color: #E2EBFA;\n",
              "      box-shadow: 0px 1px 2px rgba(60, 64, 67, 0.3), 0px 1px 3px 1px rgba(60, 64, 67, 0.15);\n",
              "      fill: #174EA6;\n",
              "    }\n",
              "\n",
              "    .colab-df-buttons div {\n",
              "      margin-bottom: 4px;\n",
              "    }\n",
              "\n",
              "    [theme=dark] .colab-df-convert {\n",
              "      background-color: #3B4455;\n",
              "      fill: #D2E3FC;\n",
              "    }\n",
              "\n",
              "    [theme=dark] .colab-df-convert:hover {\n",
              "      background-color: #434B5C;\n",
              "      box-shadow: 0px 1px 3px 1px rgba(0, 0, 0, 0.15);\n",
              "      filter: drop-shadow(0px 1px 2px rgba(0, 0, 0, 0.3));\n",
              "      fill: #FFFFFF;\n",
              "    }\n",
              "  </style>\n",
              "\n",
              "    <script>\n",
              "      const buttonEl =\n",
              "        document.querySelector('#df-c10917b8-a35e-499a-91fe-4973be881d27 button.colab-df-convert');\n",
              "      buttonEl.style.display =\n",
              "        google.colab.kernel.accessAllowed ? 'block' : 'none';\n",
              "\n",
              "      async function convertToInteractive(key) {\n",
              "        const element = document.querySelector('#df-c10917b8-a35e-499a-91fe-4973be881d27');\n",
              "        const dataTable =\n",
              "          await google.colab.kernel.invokeFunction('convertToInteractive',\n",
              "                                                    [key], {});\n",
              "        if (!dataTable) return;\n",
              "\n",
              "        const docLinkHtml = 'Like what you see? Visit the ' +\n",
              "          '<a target=\"_blank\" href=https://colab.research.google.com/notebooks/data_table.ipynb>data table notebook</a>'\n",
              "          + ' to learn more about interactive tables.';\n",
              "        element.innerHTML = '';\n",
              "        dataTable['output_type'] = 'display_data';\n",
              "        await google.colab.output.renderOutput(dataTable, element);\n",
              "        const docLink = document.createElement('div');\n",
              "        docLink.innerHTML = docLinkHtml;\n",
              "        element.appendChild(docLink);\n",
              "      }\n",
              "    </script>\n",
              "  </div>\n",
              "\n",
              "\n",
              "<div id=\"df-4ec56f5b-dffe-47b9-9330-4113775c9411\">\n",
              "  <button class=\"colab-df-quickchart\" onclick=\"quickchart('df-4ec56f5b-dffe-47b9-9330-4113775c9411')\"\n",
              "            title=\"Suggest charts.\"\n",
              "            style=\"display:none;\">\n",
              "\n",
              "<svg xmlns=\"http://www.w3.org/2000/svg\" height=\"24px\"viewBox=\"0 0 24 24\"\n",
              "     width=\"24px\">\n",
              "    <g>\n",
              "        <path d=\"M19 3H5c-1.1 0-2 .9-2 2v14c0 1.1.9 2 2 2h14c1.1 0 2-.9 2-2V5c0-1.1-.9-2-2-2zM9 17H7v-7h2v7zm4 0h-2V7h2v10zm4 0h-2v-4h2v4z\"/>\n",
              "    </g>\n",
              "</svg>\n",
              "  </button>\n",
              "\n",
              "<style>\n",
              "  .colab-df-quickchart {\n",
              "      --bg-color: #E8F0FE;\n",
              "      --fill-color: #1967D2;\n",
              "      --hover-bg-color: #E2EBFA;\n",
              "      --hover-fill-color: #174EA6;\n",
              "      --disabled-fill-color: #AAA;\n",
              "      --disabled-bg-color: #DDD;\n",
              "  }\n",
              "\n",
              "  [theme=dark] .colab-df-quickchart {\n",
              "      --bg-color: #3B4455;\n",
              "      --fill-color: #D2E3FC;\n",
              "      --hover-bg-color: #434B5C;\n",
              "      --hover-fill-color: #FFFFFF;\n",
              "      --disabled-bg-color: #3B4455;\n",
              "      --disabled-fill-color: #666;\n",
              "  }\n",
              "\n",
              "  .colab-df-quickchart {\n",
              "    background-color: var(--bg-color);\n",
              "    border: none;\n",
              "    border-radius: 50%;\n",
              "    cursor: pointer;\n",
              "    display: none;\n",
              "    fill: var(--fill-color);\n",
              "    height: 32px;\n",
              "    padding: 0;\n",
              "    width: 32px;\n",
              "  }\n",
              "\n",
              "  .colab-df-quickchart:hover {\n",
              "    background-color: var(--hover-bg-color);\n",
              "    box-shadow: 0 1px 2px rgba(60, 64, 67, 0.3), 0 1px 3px 1px rgba(60, 64, 67, 0.15);\n",
              "    fill: var(--button-hover-fill-color);\n",
              "  }\n",
              "\n",
              "  .colab-df-quickchart-complete:disabled,\n",
              "  .colab-df-quickchart-complete:disabled:hover {\n",
              "    background-color: var(--disabled-bg-color);\n",
              "    fill: var(--disabled-fill-color);\n",
              "    box-shadow: none;\n",
              "  }\n",
              "\n",
              "  .colab-df-spinner {\n",
              "    border: 2px solid var(--fill-color);\n",
              "    border-color: transparent;\n",
              "    border-bottom-color: var(--fill-color);\n",
              "    animation:\n",
              "      spin 1s steps(1) infinite;\n",
              "  }\n",
              "\n",
              "  @keyframes spin {\n",
              "    0% {\n",
              "      border-color: transparent;\n",
              "      border-bottom-color: var(--fill-color);\n",
              "      border-left-color: var(--fill-color);\n",
              "    }\n",
              "    20% {\n",
              "      border-color: transparent;\n",
              "      border-left-color: var(--fill-color);\n",
              "      border-top-color: var(--fill-color);\n",
              "    }\n",
              "    30% {\n",
              "      border-color: transparent;\n",
              "      border-left-color: var(--fill-color);\n",
              "      border-top-color: var(--fill-color);\n",
              "      border-right-color: var(--fill-color);\n",
              "    }\n",
              "    40% {\n",
              "      border-color: transparent;\n",
              "      border-right-color: var(--fill-color);\n",
              "      border-top-color: var(--fill-color);\n",
              "    }\n",
              "    60% {\n",
              "      border-color: transparent;\n",
              "      border-right-color: var(--fill-color);\n",
              "    }\n",
              "    80% {\n",
              "      border-color: transparent;\n",
              "      border-right-color: var(--fill-color);\n",
              "      border-bottom-color: var(--fill-color);\n",
              "    }\n",
              "    90% {\n",
              "      border-color: transparent;\n",
              "      border-bottom-color: var(--fill-color);\n",
              "    }\n",
              "  }\n",
              "</style>\n",
              "\n",
              "  <script>\n",
              "    async function quickchart(key) {\n",
              "      const quickchartButtonEl =\n",
              "        document.querySelector('#' + key + ' button');\n",
              "      quickchartButtonEl.disabled = true;  // To prevent multiple clicks.\n",
              "      quickchartButtonEl.classList.add('colab-df-spinner');\n",
              "      try {\n",
              "        const charts = await google.colab.kernel.invokeFunction(\n",
              "            'suggestCharts', [key], {});\n",
              "      } catch (error) {\n",
              "        console.error('Error during call to suggestCharts:', error);\n",
              "      }\n",
              "      quickchartButtonEl.classList.remove('colab-df-spinner');\n",
              "      quickchartButtonEl.classList.add('colab-df-quickchart-complete');\n",
              "    }\n",
              "    (() => {\n",
              "      let quickchartButtonEl =\n",
              "        document.querySelector('#df-4ec56f5b-dffe-47b9-9330-4113775c9411 button');\n",
              "      quickchartButtonEl.style.display =\n",
              "        google.colab.kernel.accessAllowed ? 'block' : 'none';\n",
              "    })();\n",
              "  </script>\n",
              "</div>\n",
              "    </div>\n",
              "  </div>\n"
            ],
            "text/plain": [
              "   id Airline  Flight AirportFrom AirportTo  DayOfWeek  Time  Length  Delay\n",
              "0   1      CO     269         SFO       IAH          3    15     205      1\n",
              "1   2      US    1558         PHX       CLT          3    15     222      1\n",
              "2   3      AA    2400         LAX       DFW          3    20     165      1\n",
              "3   4      AA    2466         SFO       DFW          3    20     195      1\n",
              "4   5      AS     108         ANC       SEA          3    30     202      0"
            ]
          },
          "execution_count": 218,
          "metadata": {},
          "output_type": "execute_result"
        }
      ],
      "source": [
        "# Loading the dataset from the github repository\n",
        "\n",
        "url = 'https://raw.githubusercontent.com/jhalak1509/Datasets/main/Airline_Delay_Dataset.csv'\n",
        "\n",
        "df = pd.read_csv(url)\n",
        "\n",
        "df.head()"
      ]
    },
    {
      "cell_type": "code",
      "execution_count": 219,
      "metadata": {
        "colab": {
          "base_uri": "https://localhost:8080/",
          "height": 424
        },
        "id": "GcxehVeYBuyH",
        "outputId": "4e845fdb-8b24-4170-8bf8-9572b02aee83"
      },
      "outputs": [
        {
          "data": {
            "text/html": [
              "\n",
              "  <div id=\"df-da274864-6428-4a0c-bc87-7ba768e1df7a\" class=\"colab-df-container\">\n",
              "    <div>\n",
              "<style scoped>\n",
              "    .dataframe tbody tr th:only-of-type {\n",
              "        vertical-align: middle;\n",
              "    }\n",
              "\n",
              "    .dataframe tbody tr th {\n",
              "        vertical-align: top;\n",
              "    }\n",
              "\n",
              "    .dataframe thead th {\n",
              "        text-align: right;\n",
              "    }\n",
              "</style>\n",
              "<table border=\"1\" class=\"dataframe\">\n",
              "  <thead>\n",
              "    <tr style=\"text-align: right;\">\n",
              "      <th></th>\n",
              "      <th>Airline</th>\n",
              "      <th>Flight</th>\n",
              "      <th>AirportFrom</th>\n",
              "      <th>AirportTo</th>\n",
              "      <th>DayOfWeek</th>\n",
              "      <th>Time</th>\n",
              "      <th>Length</th>\n",
              "      <th>Delay</th>\n",
              "    </tr>\n",
              "  </thead>\n",
              "  <tbody>\n",
              "    <tr>\n",
              "      <th>0</th>\n",
              "      <td>CO</td>\n",
              "      <td>269</td>\n",
              "      <td>SFO</td>\n",
              "      <td>IAH</td>\n",
              "      <td>3</td>\n",
              "      <td>15</td>\n",
              "      <td>205</td>\n",
              "      <td>1</td>\n",
              "    </tr>\n",
              "    <tr>\n",
              "      <th>1</th>\n",
              "      <td>US</td>\n",
              "      <td>1558</td>\n",
              "      <td>PHX</td>\n",
              "      <td>CLT</td>\n",
              "      <td>3</td>\n",
              "      <td>15</td>\n",
              "      <td>222</td>\n",
              "      <td>1</td>\n",
              "    </tr>\n",
              "    <tr>\n",
              "      <th>2</th>\n",
              "      <td>AA</td>\n",
              "      <td>2400</td>\n",
              "      <td>LAX</td>\n",
              "      <td>DFW</td>\n",
              "      <td>3</td>\n",
              "      <td>20</td>\n",
              "      <td>165</td>\n",
              "      <td>1</td>\n",
              "    </tr>\n",
              "    <tr>\n",
              "      <th>3</th>\n",
              "      <td>AA</td>\n",
              "      <td>2466</td>\n",
              "      <td>SFO</td>\n",
              "      <td>DFW</td>\n",
              "      <td>3</td>\n",
              "      <td>20</td>\n",
              "      <td>195</td>\n",
              "      <td>1</td>\n",
              "    </tr>\n",
              "    <tr>\n",
              "      <th>4</th>\n",
              "      <td>AS</td>\n",
              "      <td>108</td>\n",
              "      <td>ANC</td>\n",
              "      <td>SEA</td>\n",
              "      <td>3</td>\n",
              "      <td>30</td>\n",
              "      <td>202</td>\n",
              "      <td>0</td>\n",
              "    </tr>\n",
              "    <tr>\n",
              "      <th>...</th>\n",
              "      <td>...</td>\n",
              "      <td>...</td>\n",
              "      <td>...</td>\n",
              "      <td>...</td>\n",
              "      <td>...</td>\n",
              "      <td>...</td>\n",
              "      <td>...</td>\n",
              "      <td>...</td>\n",
              "    </tr>\n",
              "    <tr>\n",
              "      <th>539378</th>\n",
              "      <td>CO</td>\n",
              "      <td>178</td>\n",
              "      <td>OGG</td>\n",
              "      <td>SNA</td>\n",
              "      <td>5</td>\n",
              "      <td>1439</td>\n",
              "      <td>326</td>\n",
              "      <td>0</td>\n",
              "    </tr>\n",
              "    <tr>\n",
              "      <th>539379</th>\n",
              "      <td>FL</td>\n",
              "      <td>398</td>\n",
              "      <td>SEA</td>\n",
              "      <td>ATL</td>\n",
              "      <td>5</td>\n",
              "      <td>1439</td>\n",
              "      <td>305</td>\n",
              "      <td>0</td>\n",
              "    </tr>\n",
              "    <tr>\n",
              "      <th>539380</th>\n",
              "      <td>FL</td>\n",
              "      <td>609</td>\n",
              "      <td>SFO</td>\n",
              "      <td>MKE</td>\n",
              "      <td>5</td>\n",
              "      <td>1439</td>\n",
              "      <td>255</td>\n",
              "      <td>0</td>\n",
              "    </tr>\n",
              "    <tr>\n",
              "      <th>539381</th>\n",
              "      <td>UA</td>\n",
              "      <td>78</td>\n",
              "      <td>HNL</td>\n",
              "      <td>SFO</td>\n",
              "      <td>5</td>\n",
              "      <td>1439</td>\n",
              "      <td>313</td>\n",
              "      <td>1</td>\n",
              "    </tr>\n",
              "    <tr>\n",
              "      <th>539382</th>\n",
              "      <td>US</td>\n",
              "      <td>1442</td>\n",
              "      <td>LAX</td>\n",
              "      <td>PHL</td>\n",
              "      <td>5</td>\n",
              "      <td>1439</td>\n",
              "      <td>301</td>\n",
              "      <td>1</td>\n",
              "    </tr>\n",
              "  </tbody>\n",
              "</table>\n",
              "<p>539383 rows × 8 columns</p>\n",
              "</div>\n",
              "    <div class=\"colab-df-buttons\">\n",
              "\n",
              "  <div class=\"colab-df-container\">\n",
              "    <button class=\"colab-df-convert\" onclick=\"convertToInteractive('df-da274864-6428-4a0c-bc87-7ba768e1df7a')\"\n",
              "            title=\"Convert this dataframe to an interactive table.\"\n",
              "            style=\"display:none;\">\n",
              "\n",
              "  <svg xmlns=\"http://www.w3.org/2000/svg\" height=\"24px\" viewBox=\"0 -960 960 960\">\n",
              "    <path d=\"M120-120v-720h720v720H120Zm60-500h600v-160H180v160Zm220 220h160v-160H400v160Zm0 220h160v-160H400v160ZM180-400h160v-160H180v160Zm440 0h160v-160H620v160ZM180-180h160v-160H180v160Zm440 0h160v-160H620v160Z\"/>\n",
              "  </svg>\n",
              "    </button>\n",
              "\n",
              "  <style>\n",
              "    .colab-df-container {\n",
              "      display:flex;\n",
              "      gap: 12px;\n",
              "    }\n",
              "\n",
              "    .colab-df-convert {\n",
              "      background-color: #E8F0FE;\n",
              "      border: none;\n",
              "      border-radius: 50%;\n",
              "      cursor: pointer;\n",
              "      display: none;\n",
              "      fill: #1967D2;\n",
              "      height: 32px;\n",
              "      padding: 0 0 0 0;\n",
              "      width: 32px;\n",
              "    }\n",
              "\n",
              "    .colab-df-convert:hover {\n",
              "      background-color: #E2EBFA;\n",
              "      box-shadow: 0px 1px 2px rgba(60, 64, 67, 0.3), 0px 1px 3px 1px rgba(60, 64, 67, 0.15);\n",
              "      fill: #174EA6;\n",
              "    }\n",
              "\n",
              "    .colab-df-buttons div {\n",
              "      margin-bottom: 4px;\n",
              "    }\n",
              "\n",
              "    [theme=dark] .colab-df-convert {\n",
              "      background-color: #3B4455;\n",
              "      fill: #D2E3FC;\n",
              "    }\n",
              "\n",
              "    [theme=dark] .colab-df-convert:hover {\n",
              "      background-color: #434B5C;\n",
              "      box-shadow: 0px 1px 3px 1px rgba(0, 0, 0, 0.15);\n",
              "      filter: drop-shadow(0px 1px 2px rgba(0, 0, 0, 0.3));\n",
              "      fill: #FFFFFF;\n",
              "    }\n",
              "  </style>\n",
              "\n",
              "    <script>\n",
              "      const buttonEl =\n",
              "        document.querySelector('#df-da274864-6428-4a0c-bc87-7ba768e1df7a button.colab-df-convert');\n",
              "      buttonEl.style.display =\n",
              "        google.colab.kernel.accessAllowed ? 'block' : 'none';\n",
              "\n",
              "      async function convertToInteractive(key) {\n",
              "        const element = document.querySelector('#df-da274864-6428-4a0c-bc87-7ba768e1df7a');\n",
              "        const dataTable =\n",
              "          await google.colab.kernel.invokeFunction('convertToInteractive',\n",
              "                                                    [key], {});\n",
              "        if (!dataTable) return;\n",
              "\n",
              "        const docLinkHtml = 'Like what you see? Visit the ' +\n",
              "          '<a target=\"_blank\" href=https://colab.research.google.com/notebooks/data_table.ipynb>data table notebook</a>'\n",
              "          + ' to learn more about interactive tables.';\n",
              "        element.innerHTML = '';\n",
              "        dataTable['output_type'] = 'display_data';\n",
              "        await google.colab.output.renderOutput(dataTable, element);\n",
              "        const docLink = document.createElement('div');\n",
              "        docLink.innerHTML = docLinkHtml;\n",
              "        element.appendChild(docLink);\n",
              "      }\n",
              "    </script>\n",
              "  </div>\n",
              "\n",
              "\n",
              "<div id=\"df-2c472440-ba01-4731-8a55-e30a52f2efce\">\n",
              "  <button class=\"colab-df-quickchart\" onclick=\"quickchart('df-2c472440-ba01-4731-8a55-e30a52f2efce')\"\n",
              "            title=\"Suggest charts.\"\n",
              "            style=\"display:none;\">\n",
              "\n",
              "<svg xmlns=\"http://www.w3.org/2000/svg\" height=\"24px\"viewBox=\"0 0 24 24\"\n",
              "     width=\"24px\">\n",
              "    <g>\n",
              "        <path d=\"M19 3H5c-1.1 0-2 .9-2 2v14c0 1.1.9 2 2 2h14c1.1 0 2-.9 2-2V5c0-1.1-.9-2-2-2zM9 17H7v-7h2v7zm4 0h-2V7h2v10zm4 0h-2v-4h2v4z\"/>\n",
              "    </g>\n",
              "</svg>\n",
              "  </button>\n",
              "\n",
              "<style>\n",
              "  .colab-df-quickchart {\n",
              "      --bg-color: #E8F0FE;\n",
              "      --fill-color: #1967D2;\n",
              "      --hover-bg-color: #E2EBFA;\n",
              "      --hover-fill-color: #174EA6;\n",
              "      --disabled-fill-color: #AAA;\n",
              "      --disabled-bg-color: #DDD;\n",
              "  }\n",
              "\n",
              "  [theme=dark] .colab-df-quickchart {\n",
              "      --bg-color: #3B4455;\n",
              "      --fill-color: #D2E3FC;\n",
              "      --hover-bg-color: #434B5C;\n",
              "      --hover-fill-color: #FFFFFF;\n",
              "      --disabled-bg-color: #3B4455;\n",
              "      --disabled-fill-color: #666;\n",
              "  }\n",
              "\n",
              "  .colab-df-quickchart {\n",
              "    background-color: var(--bg-color);\n",
              "    border: none;\n",
              "    border-radius: 50%;\n",
              "    cursor: pointer;\n",
              "    display: none;\n",
              "    fill: var(--fill-color);\n",
              "    height: 32px;\n",
              "    padding: 0;\n",
              "    width: 32px;\n",
              "  }\n",
              "\n",
              "  .colab-df-quickchart:hover {\n",
              "    background-color: var(--hover-bg-color);\n",
              "    box-shadow: 0 1px 2px rgba(60, 64, 67, 0.3), 0 1px 3px 1px rgba(60, 64, 67, 0.15);\n",
              "    fill: var(--button-hover-fill-color);\n",
              "  }\n",
              "\n",
              "  .colab-df-quickchart-complete:disabled,\n",
              "  .colab-df-quickchart-complete:disabled:hover {\n",
              "    background-color: var(--disabled-bg-color);\n",
              "    fill: var(--disabled-fill-color);\n",
              "    box-shadow: none;\n",
              "  }\n",
              "\n",
              "  .colab-df-spinner {\n",
              "    border: 2px solid var(--fill-color);\n",
              "    border-color: transparent;\n",
              "    border-bottom-color: var(--fill-color);\n",
              "    animation:\n",
              "      spin 1s steps(1) infinite;\n",
              "  }\n",
              "\n",
              "  @keyframes spin {\n",
              "    0% {\n",
              "      border-color: transparent;\n",
              "      border-bottom-color: var(--fill-color);\n",
              "      border-left-color: var(--fill-color);\n",
              "    }\n",
              "    20% {\n",
              "      border-color: transparent;\n",
              "      border-left-color: var(--fill-color);\n",
              "      border-top-color: var(--fill-color);\n",
              "    }\n",
              "    30% {\n",
              "      border-color: transparent;\n",
              "      border-left-color: var(--fill-color);\n",
              "      border-top-color: var(--fill-color);\n",
              "      border-right-color: var(--fill-color);\n",
              "    }\n",
              "    40% {\n",
              "      border-color: transparent;\n",
              "      border-right-color: var(--fill-color);\n",
              "      border-top-color: var(--fill-color);\n",
              "    }\n",
              "    60% {\n",
              "      border-color: transparent;\n",
              "      border-right-color: var(--fill-color);\n",
              "    }\n",
              "    80% {\n",
              "      border-color: transparent;\n",
              "      border-right-color: var(--fill-color);\n",
              "      border-bottom-color: var(--fill-color);\n",
              "    }\n",
              "    90% {\n",
              "      border-color: transparent;\n",
              "      border-bottom-color: var(--fill-color);\n",
              "    }\n",
              "  }\n",
              "</style>\n",
              "\n",
              "  <script>\n",
              "    async function quickchart(key) {\n",
              "      const quickchartButtonEl =\n",
              "        document.querySelector('#' + key + ' button');\n",
              "      quickchartButtonEl.disabled = true;  // To prevent multiple clicks.\n",
              "      quickchartButtonEl.classList.add('colab-df-spinner');\n",
              "      try {\n",
              "        const charts = await google.colab.kernel.invokeFunction(\n",
              "            'suggestCharts', [key], {});\n",
              "      } catch (error) {\n",
              "        console.error('Error during call to suggestCharts:', error);\n",
              "      }\n",
              "      quickchartButtonEl.classList.remove('colab-df-spinner');\n",
              "      quickchartButtonEl.classList.add('colab-df-quickchart-complete');\n",
              "    }\n",
              "    (() => {\n",
              "      let quickchartButtonEl =\n",
              "        document.querySelector('#df-2c472440-ba01-4731-8a55-e30a52f2efce button');\n",
              "      quickchartButtonEl.style.display =\n",
              "        google.colab.kernel.accessAllowed ? 'block' : 'none';\n",
              "    })();\n",
              "  </script>\n",
              "</div>\n",
              "    </div>\n",
              "  </div>\n"
            ],
            "text/plain": [
              "       Airline  Flight AirportFrom AirportTo  DayOfWeek  Time  Length  Delay\n",
              "0           CO     269         SFO       IAH          3    15     205      1\n",
              "1           US    1558         PHX       CLT          3    15     222      1\n",
              "2           AA    2400         LAX       DFW          3    20     165      1\n",
              "3           AA    2466         SFO       DFW          3    20     195      1\n",
              "4           AS     108         ANC       SEA          3    30     202      0\n",
              "...        ...     ...         ...       ...        ...   ...     ...    ...\n",
              "539378      CO     178         OGG       SNA          5  1439     326      0\n",
              "539379      FL     398         SEA       ATL          5  1439     305      0\n",
              "539380      FL     609         SFO       MKE          5  1439     255      0\n",
              "539381      UA      78         HNL       SFO          5  1439     313      1\n",
              "539382      US    1442         LAX       PHL          5  1439     301      1\n",
              "\n",
              "[539383 rows x 8 columns]"
            ]
          },
          "execution_count": 219,
          "metadata": {},
          "output_type": "execute_result"
        }
      ],
      "source": [
        "# Dropping the id column\n",
        "\n",
        "df = df.drop(['id'], axis = 1)\n",
        "df"
      ]
    },
    {
      "cell_type": "markdown",
      "metadata": {
        "id": "EDFBXbaAcTiR"
      },
      "source": [
        "# Data Preprocessing and Analysis\n"
      ]
    },
    {
      "cell_type": "code",
      "execution_count": 195,
      "metadata": {
        "colab": {
          "base_uri": "https://localhost:8080/"
        },
        "id": "R6vvqGhFWS7R",
        "outputId": "8dace3f9-334d-4642-e176-b633d24fbc5f"
      },
      "outputs": [
        {
          "data": {
            "text/plain": [
              "(539383, 8)"
            ]
          },
          "execution_count": 195,
          "metadata": {},
          "output_type": "execute_result"
        }
      ],
      "source": [
        "df.shape"
      ]
    },
    {
      "cell_type": "code",
      "execution_count": 196,
      "metadata": {
        "colab": {
          "base_uri": "https://localhost:8080/"
        },
        "id": "hVYwiafp-2lu",
        "outputId": "a36a0ee3-bd69-434c-af2c-2ce3f1fb1397"
      },
      "outputs": [
        {
          "name": "stdout",
          "output_type": "stream",
          "text": [
            "<class 'pandas.core.frame.DataFrame'>\n",
            "RangeIndex: 539383 entries, 0 to 539382\n",
            "Data columns (total 8 columns):\n",
            " #   Column       Non-Null Count   Dtype \n",
            "---  ------       --------------   ----- \n",
            " 0   Airline      539383 non-null  object\n",
            " 1   Flight       539383 non-null  int64 \n",
            " 2   AirportFrom  539383 non-null  object\n",
            " 3   AirportTo    539383 non-null  object\n",
            " 4   DayOfWeek    539383 non-null  int64 \n",
            " 5   Time         539383 non-null  int64 \n",
            " 6   Length       539383 non-null  int64 \n",
            " 7   Delay        539383 non-null  int64 \n",
            "dtypes: int64(5), object(3)\n",
            "memory usage: 32.9+ MB\n"
          ]
        }
      ],
      "source": [
        "# Basic information about the dataset\n",
        "\n",
        "df.info()"
      ]
    },
    {
      "cell_type": "markdown",
      "metadata": {
        "id": "xbSBXpF1Qm5N"
      },
      "source": [
        "# **What are the data types? (Only numeric and categorical)**"
      ]
    },
    {
      "cell_type": "markdown",
      "metadata": {
        "id": "f33uOeclWg4w"
      },
      "source": [
        "From the above output, we can see that there are 5 numerical and 3 categorical variables"
      ]
    },
    {
      "cell_type": "markdown",
      "metadata": {
        "id": "qEWdZb95Wzxh"
      },
      "source": [
        "# Are there missing values?"
      ]
    },
    {
      "cell_type": "code",
      "execution_count": 197,
      "metadata": {
        "colab": {
          "base_uri": "https://localhost:8080/"
        },
        "id": "uerMEGtN_tm0",
        "outputId": "b845179d-fd4d-422c-aaec-93d732b5e82e"
      },
      "outputs": [
        {
          "data": {
            "text/plain": [
              "Airline        0\n",
              "Flight         0\n",
              "AirportFrom    0\n",
              "AirportTo      0\n",
              "DayOfWeek      0\n",
              "Time           0\n",
              "Length         0\n",
              "Delay          0\n",
              "dtype: int64"
            ]
          },
          "execution_count": 197,
          "metadata": {},
          "output_type": "execute_result"
        }
      ],
      "source": [
        "# Checking for missing values\n",
        "\n",
        "missing_values = df.isnull().sum()\n",
        "missing_values"
      ]
    },
    {
      "cell_type": "markdown",
      "metadata": {
        "id": "KhB0MiB4QpHo"
      },
      "source": [
        "No data is missing from any of the columns, which means it is not required to impute or remove the null values from the data\n"
      ]
    },
    {
      "cell_type": "code",
      "execution_count": 220,
      "metadata": {
        "id": "7mdhGGIrh9kt"
      },
      "outputs": [],
      "source": [
        "# Splitting our dataset into two dataframes - 1. Predictor Variables 2. Target Variable\n",
        "y = df['Delay']\n",
        "x = df.drop('Delay', axis = 1)\n",
        "df_total = df"
      ]
    },
    {
      "cell_type": "markdown",
      "metadata": {
        "id": "cwjhG68eXJeY"
      },
      "source": [
        "# What are the likely distributions of the numeric variables?"
      ]
    },
    {
      "cell_type": "code",
      "execution_count": 221,
      "metadata": {
        "colab": {
          "base_uri": "https://localhost:8080/",
          "height": 1000
        },
        "id": "SL-aKwrMOJ0q",
        "outputId": "105d36e6-db09-4ce5-be8b-bb7005151d08"
      },
      "outputs": [
        {
          "data": {
            "text/plain": [
              "<Figure size 800x500 with 0 Axes>"
            ]
          },
          "metadata": {},
          "output_type": "display_data"
        },
        {
          "data": {
            "image/png": "[encoded data removed]",
            "text/plain": [
              "<Figure size 640x480 with 1 Axes>"
            ]
          },
          "metadata": {},
          "output_type": "display_data"
        },
        {
          "data": {
            "text/plain": [
              "<Figure size 800x500 with 0 Axes>"
            ]
          },
          "metadata": {},
          "output_type": "display_data"
        },
        {
          "data": {
            "image/png": "[encoded data removed]",
            "text/plain": [
              "<Figure size 640x480 with 1 Axes>"
            ]
          },
          "metadata": {},
          "output_type": "display_data"
        },
        {
          "data": {
            "text/plain": [
              "<Figure size 800x500 with 0 Axes>"
            ]
          },
          "metadata": {},
          "output_type": "display_data"
        },
        {
          "data": {
            "image/png": "[encoded data removed]",
            "text/plain": [
              "<Figure size 640x480 with 1 Axes>"
            ]
          },
          "metadata": {},
          "output_type": "display_data"
        },
        {
          "data": {
            "text/plain": [
              "<Figure size 800x500 with 0 Axes>"
            ]
          },
          "metadata": {},
          "output_type": "display_data"
        },
        {
          "data": {
            "image/png": "[encoded data removed]",
            "text/plain": [
              "<Figure size 640x480 with 1 Axes>"
            ]
          },
          "metadata": {},
          "output_type": "display_data"
        }
      ],
      "source": [
        "from re import X\n",
        "#checking the distribution of numerical independent variables\n",
        "from statsmodels.graphics.gofplots import qqplot\n",
        "x_norm=x[['Flight', 'DayOfWeek',\n",
        "       'Time', 'Length']]\n",
        "for c in x_norm.columns[:]:\n",
        "  plt.figure(figsize=(8,5))\n",
        "  fig=qqplot(x_norm[c],line='45',fit='True')\n",
        "  plt.xticks(fontsize=13)\n",
        "  plt.yticks(fontsize=13)\n",
        "  plt.xlabel(\"Theoretical quantiles\",fontsize=15)\n",
        "  plt.ylabel(\"Sample quantiles\",fontsize=15)\n",
        "  plt.title(\"Q-Q plot of {}\".format(c),fontsize=16)\n",
        "  plt.grid(True)\n",
        "  plt.show()"
      ]
    },
    {
      "cell_type": "markdown",
      "metadata": {
        "id": "dzziDOCfQDMG"
      },
      "source": [
        "Except for the independent variable, i.e., \"Length\", the other three numerical indepent variables roughly follow the normal distribution with some outliers in the front and the end.\n"
      ]
    },
    {
      "cell_type": "markdown",
      "metadata": {
        "id": "qzQ0O7GYTn-C"
      },
      "source": [
        "For each categorical independent variable, calculate the number of each category and have an overview of its distribution."
      ]
    },
    {
      "cell_type": "markdown",
      "metadata": {
        "id": "GIp_PoSlTyC0"
      },
      "source": [
        "1. Airline"
      ]
    },
    {
      "cell_type": "code",
      "execution_count": 200,
      "metadata": {
        "colab": {
          "base_uri": "https://localhost:8080/"
        },
        "id": "Rk_ZVwrScw-0",
        "outputId": "cdddaf14-25f1-4ac3-c16d-0bb1d2f6cf31"
      },
      "outputs": [
        {
          "name": "stdout",
          "output_type": "stream",
          "text": [
            "Different airline name:  ['CO' 'US' 'AA' 'AS' 'DL' 'B6' 'HA' 'OO' '9E' 'OH' 'EV' 'XE' 'YV' 'UA'\n",
            " 'MQ' 'FL' 'F9' 'WN']\n",
            "Total number of airlines are:  18\n"
          ]
        }
      ],
      "source": [
        "different_airline=x[\"Airline\"].unique()\n",
        "num_of_different_airline=x[\"Airline\"].nunique()\n",
        "print(\"Different airline name: \",str(different_airline))\n",
        "print(\"Total number of airlines are: \",num_of_different_airline)"
      ]
    },
    {
      "cell_type": "code",
      "execution_count": 201,
      "metadata": {
        "colab": {
          "base_uri": "https://localhost:8080/"
        },
        "id": "uhRE6KSJT0ya",
        "outputId": "0b6d4c5c-b445-4bae-f747-a637e1bcfd64"
      },
      "outputs": [
        {
          "data": {
            "text/plain": [
              "WN    94097\n",
              "DL    60940\n",
              "OO    50254\n",
              "AA    45656\n",
              "MQ    36605\n",
              "US    34500\n",
              "XE    31126\n",
              "EV    27983\n",
              "UA    27619\n",
              "CO    21118\n",
              "FL    20827\n",
              "9E    20686\n",
              "B6    18112\n",
              "YV    13725\n",
              "OH    12630\n",
              "AS    11471\n",
              "F9     6456\n",
              "HA     5578\n",
              "Name: Airline, dtype: int64"
            ]
          },
          "execution_count": 201,
          "metadata": {},
          "output_type": "execute_result"
        }
      ],
      "source": [
        "x['Airline'].value_counts()"
      ]
    },
    {
      "cell_type": "markdown",
      "metadata": {
        "id": "xQr8tr_qT6E3"
      },
      "source": [
        "2. Source Airport"
      ]
    },
    {
      "cell_type": "code",
      "execution_count": 104,
      "metadata": {
        "colab": {
          "base_uri": "https://localhost:8080/"
        },
        "id": "YkeSxjTGT__U",
        "outputId": "465e3858-477d-48b2-e80e-70a2efe77f18"
      },
      "outputs": [
        {
          "data": {
            "text/plain": [
              "ATL    34449\n",
              "ORD    24822\n",
              "DFW    22154\n",
              "DEN    19843\n",
              "LAX    16657\n",
              "       ...  \n",
              "MMH       16\n",
              "SJT       15\n",
              "GUM       10\n",
              "ADK        9\n",
              "ABR        2\n",
              "Name: AirportFrom, Length: 293, dtype: int64"
            ]
          },
          "execution_count": 104,
          "metadata": {},
          "output_type": "execute_result"
        }
      ],
      "source": [
        "x['AirportFrom'].value_counts()\n"
      ]
    },
    {
      "cell_type": "markdown",
      "metadata": {
        "id": "k_zVu96qUJ08"
      },
      "source": [
        "3. Destination Airport"
      ]
    },
    {
      "cell_type": "code",
      "execution_count": 105,
      "metadata": {
        "colab": {
          "base_uri": "https://localhost:8080/"
        },
        "id": "JoSFNoMfUNr9",
        "outputId": "d555db8f-24c2-498d-857d-36b538f8b388"
      },
      "outputs": [
        {
          "data": {
            "text/plain": [
              "ATL    34440\n",
              "ORD    24871\n",
              "DFW    22153\n",
              "DEN    19848\n",
              "LAX    16656\n",
              "       ...  \n",
              "MMH       16\n",
              "SJT       15\n",
              "GUM       10\n",
              "ADK        9\n",
              "ABR        2\n",
              "Name: AirportTo, Length: 293, dtype: int64"
            ]
          },
          "execution_count": 105,
          "metadata": {},
          "output_type": "execute_result"
        }
      ],
      "source": [
        "x['AirportTo'].value_counts()\n"
      ]
    },
    {
      "cell_type": "markdown",
      "metadata": {
        "id": "tnT4Q49rZk_x"
      },
      "source": [
        "# Do the ranges of the predictor variables make sense?"
      ]
    },
    {
      "cell_type": "code",
      "execution_count": 222,
      "metadata": {
        "id": "dNHjjRBTGqqy"
      },
      "outputs": [],
      "source": [
        "# Encoding the categorical variables\n",
        "\n",
        "def label_encoding(categories):\n",
        "    #To perform mapping of categorical features\n",
        "    categories = list(set(list(categories.values)))\n",
        "    mapping = {}\n",
        "    for idx in range(len(categories)):\n",
        "        mapping[categories[idx]] = idx\n",
        "    return mapping\n"
      ]
    },
    {
      "cell_type": "code",
      "execution_count": 223,
      "metadata": {
        "id": "uyRssS3pHN6M"
      },
      "outputs": [],
      "source": [
        "x['Airline'] = x['Airline'].map(label_encoding(df['Airline']))"
      ]
    },
    {
      "cell_type": "code",
      "execution_count": 224,
      "metadata": {
        "id": "U2y3BW2WHYWg"
      },
      "outputs": [],
      "source": [
        "x['AirportFrom'] = x['AirportFrom'].map(label_encoding(df['AirportFrom']))"
      ]
    },
    {
      "cell_type": "code",
      "execution_count": 225,
      "metadata": {
        "id": "Nd-1_9cuHe9b"
      },
      "outputs": [],
      "source": [
        "x['AirportTo'] = x['AirportTo'].map(label_encoding(df['AirportTo']))"
      ]
    },
    {
      "cell_type": "code",
      "execution_count": 226,
      "metadata": {
        "colab": {
          "base_uri": "https://localhost:8080/",
          "height": 206
        },
        "id": "MHbn-6DJHjVf",
        "outputId": "399b0e6d-1459-4333-ae40-91af14cc6839"
      },
      "outputs": [
        {
          "data": {
            "text/html": [
              "\n",
              "  <div id=\"df-af105080-1b18-4369-bf89-da0b4bb48726\" class=\"colab-df-container\">\n",
              "    <div>\n",
              "<style scoped>\n",
              "    .dataframe tbody tr th:only-of-type {\n",
              "        vertical-align: middle;\n",
              "    }\n",
              "\n",
              "    .dataframe tbody tr th {\n",
              "        vertical-align: top;\n",
              "    }\n",
              "\n",
              "    .dataframe thead th {\n",
              "        text-align: right;\n",
              "    }\n",
              "</style>\n",
              "<table border=\"1\" class=\"dataframe\">\n",
              "  <thead>\n",
              "    <tr style=\"text-align: right;\">\n",
              "      <th></th>\n",
              "      <th>Airline</th>\n",
              "      <th>Flight</th>\n",
              "      <th>AirportFrom</th>\n",
              "      <th>AirportTo</th>\n",
              "      <th>DayOfWeek</th>\n",
              "      <th>Time</th>\n",
              "      <th>Length</th>\n",
              "    </tr>\n",
              "  </thead>\n",
              "  <tbody>\n",
              "    <tr>\n",
              "      <th>0</th>\n",
              "      <td>16</td>\n",
              "      <td>269</td>\n",
              "      <td>46</td>\n",
              "      <td>102</td>\n",
              "      <td>3</td>\n",
              "      <td>15</td>\n",
              "      <td>205</td>\n",
              "    </tr>\n",
              "    <tr>\n",
              "      <th>1</th>\n",
              "      <td>1</td>\n",
              "      <td>1558</td>\n",
              "      <td>131</td>\n",
              "      <td>200</td>\n",
              "      <td>3</td>\n",
              "      <td>15</td>\n",
              "      <td>222</td>\n",
              "    </tr>\n",
              "    <tr>\n",
              "      <th>2</th>\n",
              "      <td>9</td>\n",
              "      <td>2400</td>\n",
              "      <td>248</td>\n",
              "      <td>104</td>\n",
              "      <td>3</td>\n",
              "      <td>20</td>\n",
              "      <td>165</td>\n",
              "    </tr>\n",
              "    <tr>\n",
              "      <th>3</th>\n",
              "      <td>9</td>\n",
              "      <td>2466</td>\n",
              "      <td>46</td>\n",
              "      <td>104</td>\n",
              "      <td>3</td>\n",
              "      <td>20</td>\n",
              "      <td>195</td>\n",
              "    </tr>\n",
              "    <tr>\n",
              "      <th>4</th>\n",
              "      <td>11</td>\n",
              "      <td>108</td>\n",
              "      <td>242</td>\n",
              "      <td>100</td>\n",
              "      <td>3</td>\n",
              "      <td>30</td>\n",
              "      <td>202</td>\n",
              "    </tr>\n",
              "  </tbody>\n",
              "</table>\n",
              "</div>\n",
              "    <div class=\"colab-df-buttons\">\n",
              "\n",
              "  <div class=\"colab-df-container\">\n",
              "    <button class=\"colab-df-convert\" onclick=\"convertToInteractive('df-af105080-1b18-4369-bf89-da0b4bb48726')\"\n",
              "            title=\"Convert this dataframe to an interactive table.\"\n",
              "            style=\"display:none;\">\n",
              "\n",
              "  <svg xmlns=\"http://www.w3.org/2000/svg\" height=\"24px\" viewBox=\"0 -960 960 960\">\n",
              "    <path d=\"M120-120v-720h720v720H120Zm60-500h600v-160H180v160Zm220 220h160v-160H400v160Zm0 220h160v-160H400v160ZM180-400h160v-160H180v160Zm440 0h160v-160H620v160ZM180-180h160v-160H180v160Zm440 0h160v-160H620v160Z\"/>\n",
              "  </svg>\n",
              "    </button>\n",
              "\n",
              "  <style>\n",
              "    .colab-df-container {\n",
              "      display:flex;\n",
              "      gap: 12px;\n",
              "    }\n",
              "\n",
              "    .colab-df-convert {\n",
              "      background-color: #E8F0FE;\n",
              "      border: none;\n",
              "      border-radius: 50%;\n",
              "      cursor: pointer;\n",
              "      display: none;\n",
              "      fill: #1967D2;\n",
              "      height: 32px;\n",
              "      padding: 0 0 0 0;\n",
              "      width: 32px;\n",
              "    }\n",
              "\n",
              "    .colab-df-convert:hover {\n",
              "      background-color: #E2EBFA;\n",
              "      box-shadow: 0px 1px 2px rgba(60, 64, 67, 0.3), 0px 1px 3px 1px rgba(60, 64, 67, 0.15);\n",
              "      fill: #174EA6;\n",
              "    }\n",
              "\n",
              "    .colab-df-buttons div {\n",
              "      margin-bottom: 4px;\n",
              "    }\n",
              "\n",
              "    [theme=dark] .colab-df-convert {\n",
              "      background-color: #3B4455;\n",
              "      fill: #D2E3FC;\n",
              "    }\n",
              "\n",
              "    [theme=dark] .colab-df-convert:hover {\n",
              "      background-color: #434B5C;\n",
              "      box-shadow: 0px 1px 3px 1px rgba(0, 0, 0, 0.15);\n",
              "      filter: drop-shadow(0px 1px 2px rgba(0, 0, 0, 0.3));\n",
              "      fill: #FFFFFF;\n",
              "    }\n",
              "  </style>\n",
              "\n",
              "    <script>\n",
              "      const buttonEl =\n",
              "        document.querySelector('#df-af105080-1b18-4369-bf89-da0b4bb48726 button.colab-df-convert');\n",
              "      buttonEl.style.display =\n",
              "        google.colab.kernel.accessAllowed ? 'block' : 'none';\n",
              "\n",
              "      async function convertToInteractive(key) {\n",
              "        const element = document.querySelector('#df-af105080-1b18-4369-bf89-da0b4bb48726');\n",
              "        const dataTable =\n",
              "          await google.colab.kernel.invokeFunction('convertToInteractive',\n",
              "                                                    [key], {});\n",
              "        if (!dataTable) return;\n",
              "\n",
              "        const docLinkHtml = 'Like what you see? Visit the ' +\n",
              "          '<a target=\"_blank\" href=https://colab.research.google.com/notebooks/data_table.ipynb>data table notebook</a>'\n",
              "          + ' to learn more about interactive tables.';\n",
              "        element.innerHTML = '';\n",
              "        dataTable['output_type'] = 'display_data';\n",
              "        await google.colab.output.renderOutput(dataTable, element);\n",
              "        const docLink = document.createElement('div');\n",
              "        docLink.innerHTML = docLinkHtml;\n",
              "        element.appendChild(docLink);\n",
              "      }\n",
              "    </script>\n",
              "  </div>\n",
              "\n",
              "\n",
              "<div id=\"df-2b9c1d69-30a6-4b7d-98c8-690451406f72\">\n",
              "  <button class=\"colab-df-quickchart\" onclick=\"quickchart('df-2b9c1d69-30a6-4b7d-98c8-690451406f72')\"\n",
              "            title=\"Suggest charts.\"\n",
              "            style=\"display:none;\">\n",
              "\n",
              "<svg xmlns=\"http://www.w3.org/2000/svg\" height=\"24px\"viewBox=\"0 0 24 24\"\n",
              "     width=\"24px\">\n",
              "    <g>\n",
              "        <path d=\"M19 3H5c-1.1 0-2 .9-2 2v14c0 1.1.9 2 2 2h14c1.1 0 2-.9 2-2V5c0-1.1-.9-2-2-2zM9 17H7v-7h2v7zm4 0h-2V7h2v10zm4 0h-2v-4h2v4z\"/>\n",
              "    </g>\n",
              "</svg>\n",
              "  </button>\n",
              "\n",
              "<style>\n",
              "  .colab-df-quickchart {\n",
              "      --bg-color: #E8F0FE;\n",
              "      --fill-color: #1967D2;\n",
              "      --hover-bg-color: #E2EBFA;\n",
              "      --hover-fill-color: #174EA6;\n",
              "      --disabled-fill-color: #AAA;\n",
              "      --disabled-bg-color: #DDD;\n",
              "  }\n",
              "\n",
              "  [theme=dark] .colab-df-quickchart {\n",
              "      --bg-color: #3B4455;\n",
              "      --fill-color: #D2E3FC;\n",
              "      --hover-bg-color: #434B5C;\n",
              "      --hover-fill-color: #FFFFFF;\n",
              "      --disabled-bg-color: #3B4455;\n",
              "      --disabled-fill-color: #666;\n",
              "  }\n",
              "\n",
              "  .colab-df-quickchart {\n",
              "    background-color: var(--bg-color);\n",
              "    border: none;\n",
              "    border-radius: 50%;\n",
              "    cursor: pointer;\n",
              "    display: none;\n",
              "    fill: var(--fill-color);\n",
              "    height: 32px;\n",
              "    padding: 0;\n",
              "    width: 32px;\n",
              "  }\n",
              "\n",
              "  .colab-df-quickchart:hover {\n",
              "    background-color: var(--hover-bg-color);\n",
              "    box-shadow: 0 1px 2px rgba(60, 64, 67, 0.3), 0 1px 3px 1px rgba(60, 64, 67, 0.15);\n",
              "    fill: var(--button-hover-fill-color);\n",
              "  }\n",
              "\n",
              "  .colab-df-quickchart-complete:disabled,\n",
              "  .colab-df-quickchart-complete:disabled:hover {\n",
              "    background-color: var(--disabled-bg-color);\n",
              "    fill: var(--disabled-fill-color);\n",
              "    box-shadow: none;\n",
              "  }\n",
              "\n",
              "  .colab-df-spinner {\n",
              "    border: 2px solid var(--fill-color);\n",
              "    border-color: transparent;\n",
              "    border-bottom-color: var(--fill-color);\n",
              "    animation:\n",
              "      spin 1s steps(1) infinite;\n",
              "  }\n",
              "\n",
              "  @keyframes spin {\n",
              "    0% {\n",
              "      border-color: transparent;\n",
              "      border-bottom-color: var(--fill-color);\n",
              "      border-left-color: var(--fill-color);\n",
              "    }\n",
              "    20% {\n",
              "      border-color: transparent;\n",
              "      border-left-color: var(--fill-color);\n",
              "      border-top-color: var(--fill-color);\n",
              "    }\n",
              "    30% {\n",
              "      border-color: transparent;\n",
              "      border-left-color: var(--fill-color);\n",
              "      border-top-color: var(--fill-color);\n",
              "      border-right-color: var(--fill-color);\n",
              "    }\n",
              "    40% {\n",
              "      border-color: transparent;\n",
              "      border-right-color: var(--fill-color);\n",
              "      border-top-color: var(--fill-color);\n",
              "    }\n",
              "    60% {\n",
              "      border-color: transparent;\n",
              "      border-right-color: var(--fill-color);\n",
              "    }\n",
              "    80% {\n",
              "      border-color: transparent;\n",
              "      border-right-color: var(--fill-color);\n",
              "      border-bottom-color: var(--fill-color);\n",
              "    }\n",
              "    90% {\n",
              "      border-color: transparent;\n",
              "      border-bottom-color: var(--fill-color);\n",
              "    }\n",
              "  }\n",
              "</style>\n",
              "\n",
              "  <script>\n",
              "    async function quickchart(key) {\n",
              "      const quickchartButtonEl =\n",
              "        document.querySelector('#' + key + ' button');\n",
              "      quickchartButtonEl.disabled = true;  // To prevent multiple clicks.\n",
              "      quickchartButtonEl.classList.add('colab-df-spinner');\n",
              "      try {\n",
              "        const charts = await google.colab.kernel.invokeFunction(\n",
              "            'suggestCharts', [key], {});\n",
              "      } catch (error) {\n",
              "        console.error('Error during call to suggestCharts:', error);\n",
              "      }\n",
              "      quickchartButtonEl.classList.remove('colab-df-spinner');\n",
              "      quickchartButtonEl.classList.add('colab-df-quickchart-complete');\n",
              "    }\n",
              "    (() => {\n",
              "      let quickchartButtonEl =\n",
              "        document.querySelector('#df-2b9c1d69-30a6-4b7d-98c8-690451406f72 button');\n",
              "      quickchartButtonEl.style.display =\n",
              "        google.colab.kernel.accessAllowed ? 'block' : 'none';\n",
              "    })();\n",
              "  </script>\n",
              "</div>\n",
              "    </div>\n",
              "  </div>\n"
            ],
            "text/plain": [
              "   Airline  Flight  AirportFrom  AirportTo  DayOfWeek  Time  Length\n",
              "0       16     269           46        102          3    15     205\n",
              "1        1    1558          131        200          3    15     222\n",
              "2        9    2400          248        104          3    20     165\n",
              "3        9    2466           46        104          3    20     195\n",
              "4       11     108          242        100          3    30     202"
            ]
          },
          "execution_count": 226,
          "metadata": {},
          "output_type": "execute_result"
        }
      ],
      "source": [
        "x.head()"
      ]
    },
    {
      "cell_type": "code",
      "execution_count": 209,
      "metadata": {
        "colab": {
          "base_uri": "https://localhost:8080/",
          "height": 510
        },
        "id": "L2M2cdGeiQgm",
        "outputId": "6ed9dda0-098d-4402-ba8c-3d34eccd2487"
      },
      "outputs": [
        {
          "data": {
            "text/plain": [
              "<Axes: >"
            ]
          },
          "execution_count": 209,
          "metadata": {},
          "output_type": "execute_result"
        },
        {
          "data": {
            "image/png": "[encoded data removed]",
            "text/plain": [
              "<Figure size 2000x700 with 1 Axes>"
            ]
          },
          "metadata": {},
          "output_type": "display_data"
        }
      ],
      "source": [
        "#Checking the range of the predictor variables\n",
        "plt.figure(figsize=(20,7))\n",
        "sns.boxplot(data=x, palette=\"Set3\")"
      ]
    },
    {
      "cell_type": "markdown",
      "metadata": {
        "id": "41ZpvJshjzmj"
      },
      "source": [
        "*   The range of 'Flight' is way too high as compared to the other variables that is why we are not able to visualize the ranges for other predictor variables.\n",
        "*  We will plot the charts separately to get the ranges of each one of them\n",
        "\n",
        "\n",
        "\n"
      ]
    },
    {
      "cell_type": "code",
      "execution_count": 112,
      "metadata": {
        "colab": {
          "base_uri": "https://localhost:8080/",
          "height": 697
        },
        "id": "TDVz2l44kVfH",
        "outputId": "057931a9-3e31-4938-b85c-c449ca8b665a"
      },
      "outputs": [
        {
          "data": {
            "image/png": "[encoded data removed]",
            "text/plain": [
              "<Figure size 2000x1000 with 8 Axes>"
            ]
          },
          "metadata": {},
          "output_type": "display_data"
        }
      ],
      "source": [
        "#Checking the Ranges of the predictor variables individually\n",
        "cols = list(x.columns)\n",
        "f, axs = plt.subplots(2,4,figsize=(20,10))\n",
        "for i in range(len(cols)):\n",
        "  plt.subplot(2,4,i+1)\n",
        "  plt.title('Box plot of '+ cols[i])\n",
        "  sns.boxplot(x[cols[i]], palette = 'Set3')\n",
        "plt.show()"
      ]
    },
    {
      "cell_type": "markdown",
      "metadata": {
        "id": "l5KGpVx6ktJX"
      },
      "source": [
        "As we know already and we can see again, that there are outliers in 'Length'"
      ]
    },
    {
      "cell_type": "markdown",
      "metadata": {
        "id": "jKBi80rMk7Ha"
      },
      "source": [
        "**Normalizing the dataset**"
      ]
    },
    {
      "cell_type": "code",
      "execution_count": 210,
      "metadata": {
        "id": "MXNV36N1lV82"
      },
      "outputs": [],
      "source": [
        "# list of numerical columns which require normalization\n",
        "num_cols= x.columns\n",
        "\n",
        "# Importing required library from sklearn for normalization\n",
        "from sklearn import preprocessing\n",
        "feature_to_scale = num_cols\n",
        "\n",
        "# Preparing for normalizing\n",
        "min_max_scaler = preprocessing.MinMaxScaler()\n",
        "\n",
        "# Transform the data to fit minmax processor\n",
        "x[feature_to_scale] = min_max_scaler.fit_transform(x[feature_to_scale])"
      ]
    },
    {
      "cell_type": "code",
      "execution_count": 211,
      "metadata": {
        "colab": {
          "base_uri": "https://localhost:8080/",
          "height": 300
        },
        "id": "_Yqey3VjZouz",
        "outputId": "02fc6730-cf3a-472b-b2e6-bad6bedc1363"
      },
      "outputs": [
        {
          "data": {
            "text/html": [
              "\n",
              "  <div id=\"df-6cc1fa34-7b6e-4575-a806-2bbd9ea54334\" class=\"colab-df-container\">\n",
              "    <div>\n",
              "<style scoped>\n",
              "    .dataframe tbody tr th:only-of-type {\n",
              "        vertical-align: middle;\n",
              "    }\n",
              "\n",
              "    .dataframe tbody tr th {\n",
              "        vertical-align: top;\n",
              "    }\n",
              "\n",
              "    .dataframe thead th {\n",
              "        text-align: right;\n",
              "    }\n",
              "</style>\n",
              "<table border=\"1\" class=\"dataframe\">\n",
              "  <thead>\n",
              "    <tr style=\"text-align: right;\">\n",
              "      <th></th>\n",
              "      <th>Airline</th>\n",
              "      <th>Flight</th>\n",
              "      <th>AirportFrom</th>\n",
              "      <th>AirportTo</th>\n",
              "      <th>DayOfWeek</th>\n",
              "      <th>Time</th>\n",
              "      <th>Length</th>\n",
              "    </tr>\n",
              "  </thead>\n",
              "  <tbody>\n",
              "    <tr>\n",
              "      <th>count</th>\n",
              "      <td>513733.000000</td>\n",
              "      <td>513733.000000</td>\n",
              "      <td>513733.000000</td>\n",
              "      <td>513733.000000</td>\n",
              "      <td>513733.000000</td>\n",
              "      <td>513733.000000</td>\n",
              "      <td>513733.000000</td>\n",
              "    </tr>\n",
              "    <tr>\n",
              "      <th>mean</th>\n",
              "      <td>0.504073</td>\n",
              "      <td>0.321400</td>\n",
              "      <td>0.439377</td>\n",
              "      <td>0.438365</td>\n",
              "      <td>0.487755</td>\n",
              "      <td>0.553731</td>\n",
              "      <td>0.430806</td>\n",
              "    </tr>\n",
              "    <tr>\n",
              "      <th>std</th>\n",
              "      <td>0.318211</td>\n",
              "      <td>0.265629</td>\n",
              "      <td>0.317799</td>\n",
              "      <td>0.318967</td>\n",
              "      <td>0.319051</td>\n",
              "      <td>0.193562</td>\n",
              "      <td>0.188352</td>\n",
              "    </tr>\n",
              "    <tr>\n",
              "      <th>min</th>\n",
              "      <td>0.000000</td>\n",
              "      <td>0.000000</td>\n",
              "      <td>0.000000</td>\n",
              "      <td>0.000000</td>\n",
              "      <td>0.000000</td>\n",
              "      <td>0.000000</td>\n",
              "      <td>0.000000</td>\n",
              "    </tr>\n",
              "    <tr>\n",
              "      <th>25%</th>\n",
              "      <td>0.176471</td>\n",
              "      <td>0.098426</td>\n",
              "      <td>0.119863</td>\n",
              "      <td>0.119863</td>\n",
              "      <td>0.166667</td>\n",
              "      <td>0.391882</td>\n",
              "      <td>0.282686</td>\n",
              "    </tr>\n",
              "    <tr>\n",
              "      <th>50%</th>\n",
              "      <td>0.470588</td>\n",
              "      <td>0.244976</td>\n",
              "      <td>0.359589</td>\n",
              "      <td>0.356164</td>\n",
              "      <td>0.500000</td>\n",
              "      <td>0.549335</td>\n",
              "      <td>0.392226</td>\n",
              "    </tr>\n",
              "    <tr>\n",
              "      <th>75%</th>\n",
              "      <td>0.823529</td>\n",
              "      <td>0.494304</td>\n",
              "      <td>0.746575</td>\n",
              "      <td>0.750000</td>\n",
              "      <td>0.666667</td>\n",
              "      <td>0.713786</td>\n",
              "      <td>0.547703</td>\n",
              "    </tr>\n",
              "    <tr>\n",
              "      <th>max</th>\n",
              "      <td>1.000000</td>\n",
              "      <td>1.000000</td>\n",
              "      <td>1.000000</td>\n",
              "      <td>1.000000</td>\n",
              "      <td>1.000000</td>\n",
              "      <td>1.000000</td>\n",
              "      <td>1.000000</td>\n",
              "    </tr>\n",
              "  </tbody>\n",
              "</table>\n",
              "</div>\n",
              "    <div class=\"colab-df-buttons\">\n",
              "\n",
              "  <div class=\"colab-df-container\">\n",
              "    <button class=\"colab-df-convert\" onclick=\"convertToInteractive('df-6cc1fa34-7b6e-4575-a806-2bbd9ea54334')\"\n",
              "            title=\"Convert this dataframe to an interactive table.\"\n",
              "            style=\"display:none;\">\n",
              "\n",
              "  <svg xmlns=\"http://www.w3.org/2000/svg\" height=\"24px\" viewBox=\"0 -960 960 960\">\n",
              "    <path d=\"M120-120v-720h720v720H120Zm60-500h600v-160H180v160Zm220 220h160v-160H400v160Zm0 220h160v-160H400v160ZM180-400h160v-160H180v160Zm440 0h160v-160H620v160ZM180-180h160v-160H180v160Zm440 0h160v-160H620v160Z\"/>\n",
              "  </svg>\n",
              "    </button>\n",
              "\n",
              "  <style>\n",
              "    .colab-df-container {\n",
              "      display:flex;\n",
              "      gap: 12px;\n",
              "    }\n",
              "\n",
              "    .colab-df-convert {\n",
              "      background-color: #E8F0FE;\n",
              "      border: none;\n",
              "      border-radius: 50%;\n",
              "      cursor: pointer;\n",
              "      display: none;\n",
              "      fill: #1967D2;\n",
              "      height: 32px;\n",
              "      padding: 0 0 0 0;\n",
              "      width: 32px;\n",
              "    }\n",
              "\n",
              "    .colab-df-convert:hover {\n",
              "      background-color: #E2EBFA;\n",
              "      box-shadow: 0px 1px 2px rgba(60, 64, 67, 0.3), 0px 1px 3px 1px rgba(60, 64, 67, 0.15);\n",
              "      fill: #174EA6;\n",
              "    }\n",
              "\n",
              "    .colab-df-buttons div {\n",
              "      margin-bottom: 4px;\n",
              "    }\n",
              "\n",
              "    [theme=dark] .colab-df-convert {\n",
              "      background-color: #3B4455;\n",
              "      fill: #D2E3FC;\n",
              "    }\n",
              "\n",
              "    [theme=dark] .colab-df-convert:hover {\n",
              "      background-color: #434B5C;\n",
              "      box-shadow: 0px 1px 3px 1px rgba(0, 0, 0, 0.15);\n",
              "      filter: drop-shadow(0px 1px 2px rgba(0, 0, 0, 0.3));\n",
              "      fill: #FFFFFF;\n",
              "    }\n",
              "  </style>\n",
              "\n",
              "    <script>\n",
              "      const buttonEl =\n",
              "        document.querySelector('#df-6cc1fa34-7b6e-4575-a806-2bbd9ea54334 button.colab-df-convert');\n",
              "      buttonEl.style.display =\n",
              "        google.colab.kernel.accessAllowed ? 'block' : 'none';\n",
              "\n",
              "      async function convertToInteractive(key) {\n",
              "        const element = document.querySelector('#df-6cc1fa34-7b6e-4575-a806-2bbd9ea54334');\n",
              "        const dataTable =\n",
              "          await google.colab.kernel.invokeFunction('convertToInteractive',\n",
              "                                                    [key], {});\n",
              "        if (!dataTable) return;\n",
              "\n",
              "        const docLinkHtml = 'Like what you see? Visit the ' +\n",
              "          '<a target=\"_blank\" href=https://colab.research.google.com/notebooks/data_table.ipynb>data table notebook</a>'\n",
              "          + ' to learn more about interactive tables.';\n",
              "        element.innerHTML = '';\n",
              "        dataTable['output_type'] = 'display_data';\n",
              "        await google.colab.output.renderOutput(dataTable, element);\n",
              "        const docLink = document.createElement('div');\n",
              "        docLink.innerHTML = docLinkHtml;\n",
              "        element.appendChild(docLink);\n",
              "      }\n",
              "    </script>\n",
              "  </div>\n",
              "\n",
              "\n",
              "<div id=\"df-80945375-94b4-45ef-9b3c-f104c748f8d4\">\n",
              "  <button class=\"colab-df-quickchart\" onclick=\"quickchart('df-80945375-94b4-45ef-9b3c-f104c748f8d4')\"\n",
              "            title=\"Suggest charts.\"\n",
              "            style=\"display:none;\">\n",
              "\n",
              "<svg xmlns=\"http://www.w3.org/2000/svg\" height=\"24px\"viewBox=\"0 0 24 24\"\n",
              "     width=\"24px\">\n",
              "    <g>\n",
              "        <path d=\"M19 3H5c-1.1 0-2 .9-2 2v14c0 1.1.9 2 2 2h14c1.1 0 2-.9 2-2V5c0-1.1-.9-2-2-2zM9 17H7v-7h2v7zm4 0h-2V7h2v10zm4 0h-2v-4h2v4z\"/>\n",
              "    </g>\n",
              "</svg>\n",
              "  </button>\n",
              "\n",
              "<style>\n",
              "  .colab-df-quickchart {\n",
              "      --bg-color: #E8F0FE;\n",
              "      --fill-color: #1967D2;\n",
              "      --hover-bg-color: #E2EBFA;\n",
              "      --hover-fill-color: #174EA6;\n",
              "      --disabled-fill-color: #AAA;\n",
              "      --disabled-bg-color: #DDD;\n",
              "  }\n",
              "\n",
              "  [theme=dark] .colab-df-quickchart {\n",
              "      --bg-color: #3B4455;\n",
              "      --fill-color: #D2E3FC;\n",
              "      --hover-bg-color: #434B5C;\n",
              "      --hover-fill-color: #FFFFFF;\n",
              "      --disabled-bg-color: #3B4455;\n",
              "      --disabled-fill-color: #666;\n",
              "  }\n",
              "\n",
              "  .colab-df-quickchart {\n",
              "    background-color: var(--bg-color);\n",
              "    border: none;\n",
              "    border-radius: 50%;\n",
              "    cursor: pointer;\n",
              "    display: none;\n",
              "    fill: var(--fill-color);\n",
              "    height: 32px;\n",
              "    padding: 0;\n",
              "    width: 32px;\n",
              "  }\n",
              "\n",
              "  .colab-df-quickchart:hover {\n",
              "    background-color: var(--hover-bg-color);\n",
              "    box-shadow: 0 1px 2px rgba(60, 64, 67, 0.3), 0 1px 3px 1px rgba(60, 64, 67, 0.15);\n",
              "    fill: var(--button-hover-fill-color);\n",
              "  }\n",
              "\n",
              "  .colab-df-quickchart-complete:disabled,\n",
              "  .colab-df-quickchart-complete:disabled:hover {\n",
              "    background-color: var(--disabled-bg-color);\n",
              "    fill: var(--disabled-fill-color);\n",
              "    box-shadow: none;\n",
              "  }\n",
              "\n",
              "  .colab-df-spinner {\n",
              "    border: 2px solid var(--fill-color);\n",
              "    border-color: transparent;\n",
              "    border-bottom-color: var(--fill-color);\n",
              "    animation:\n",
              "      spin 1s steps(1) infinite;\n",
              "  }\n",
              "\n",
              "  @keyframes spin {\n",
              "    0% {\n",
              "      border-color: transparent;\n",
              "      border-bottom-color: var(--fill-color);\n",
              "      border-left-color: var(--fill-color);\n",
              "    }\n",
              "    20% {\n",
              "      border-color: transparent;\n",
              "      border-left-color: var(--fill-color);\n",
              "      border-top-color: var(--fill-color);\n",
              "    }\n",
              "    30% {\n",
              "      border-color: transparent;\n",
              "      border-left-color: var(--fill-color);\n",
              "      border-top-color: var(--fill-color);\n",
              "      border-right-color: var(--fill-color);\n",
              "    }\n",
              "    40% {\n",
              "      border-color: transparent;\n",
              "      border-right-color: var(--fill-color);\n",
              "      border-top-color: var(--fill-color);\n",
              "    }\n",
              "    60% {\n",
              "      border-color: transparent;\n",
              "      border-right-color: var(--fill-color);\n",
              "    }\n",
              "    80% {\n",
              "      border-color: transparent;\n",
              "      border-right-color: var(--fill-color);\n",
              "      border-bottom-color: var(--fill-color);\n",
              "    }\n",
              "    90% {\n",
              "      border-color: transparent;\n",
              "      border-bottom-color: var(--fill-color);\n",
              "    }\n",
              "  }\n",
              "</style>\n",
              "\n",
              "  <script>\n",
              "    async function quickchart(key) {\n",
              "      const quickchartButtonEl =\n",
              "        document.querySelector('#' + key + ' button');\n",
              "      quickchartButtonEl.disabled = true;  // To prevent multiple clicks.\n",
              "      quickchartButtonEl.classList.add('colab-df-spinner');\n",
              "      try {\n",
              "        const charts = await google.colab.kernel.invokeFunction(\n",
              "            'suggestCharts', [key], {});\n",
              "      } catch (error) {\n",
              "        console.error('Error during call to suggestCharts:', error);\n",
              "      }\n",
              "      quickchartButtonEl.classList.remove('colab-df-spinner');\n",
              "      quickchartButtonEl.classList.add('colab-df-quickchart-complete');\n",
              "    }\n",
              "    (() => {\n",
              "      let quickchartButtonEl =\n",
              "        document.querySelector('#df-80945375-94b4-45ef-9b3c-f104c748f8d4 button');\n",
              "      quickchartButtonEl.style.display =\n",
              "        google.colab.kernel.accessAllowed ? 'block' : 'none';\n",
              "    })();\n",
              "  </script>\n",
              "</div>\n",
              "    </div>\n",
              "  </div>\n"
            ],
            "text/plain": [
              "             Airline         Flight    AirportFrom      AirportTo  \\\n",
              "count  513733.000000  513733.000000  513733.000000  513733.000000   \n",
              "mean        0.504073       0.321400       0.439377       0.438365   \n",
              "std         0.318211       0.265629       0.317799       0.318967   \n",
              "min         0.000000       0.000000       0.000000       0.000000   \n",
              "25%         0.176471       0.098426       0.119863       0.119863   \n",
              "50%         0.470588       0.244976       0.359589       0.356164   \n",
              "75%         0.823529       0.494304       0.746575       0.750000   \n",
              "max         1.000000       1.000000       1.000000       1.000000   \n",
              "\n",
              "           DayOfWeek           Time         Length  \n",
              "count  513733.000000  513733.000000  513733.000000  \n",
              "mean        0.487755       0.553731       0.430806  \n",
              "std         0.319051       0.193562       0.188352  \n",
              "min         0.000000       0.000000       0.000000  \n",
              "25%         0.166667       0.391882       0.282686  \n",
              "50%         0.500000       0.549335       0.392226  \n",
              "75%         0.666667       0.713786       0.547703  \n",
              "max         1.000000       1.000000       1.000000  "
            ]
          },
          "execution_count": 211,
          "metadata": {},
          "output_type": "execute_result"
        }
      ],
      "source": [
        "# checking the predictor variables after normalization\n",
        "x.describe()"
      ]
    },
    {
      "cell_type": "markdown",
      "metadata": {
        "id": "MSJvoo74lyd3"
      },
      "source": [
        "We can see that the variables are now in the range of 0 to 1\n"
      ]
    },
    {
      "cell_type": "code",
      "execution_count": 115,
      "metadata": {
        "colab": {
          "base_uri": "https://localhost:8080/",
          "height": 534
        },
        "id": "i06JajKll5Go",
        "outputId": "caa5320d-9eb7-4c5a-ff12-5527c57864f3"
      },
      "outputs": [
        {
          "data": {
            "text/plain": [
              "Text(0.5, 1.0, 'Box plot of predictor variables of the dataset')"
            ]
          },
          "execution_count": 115,
          "metadata": {},
          "output_type": "execute_result"
        },
        {
          "data": {
            "image/png": "[encoded data removed]",
            "text/plain": [
              "<Figure size 2000x700 with 1 Axes>"
            ]
          },
          "metadata": {},
          "output_type": "display_data"
        }
      ],
      "source": [
        "#Checking the Ranges of the predictor variables together after normalization\n",
        "plt.figure(figsize=(20,7))\n",
        "sns.boxplot(data=x, palette=\"Set3\")\n",
        "plt.title(\"Box plot of predictor variables of the dataset\", size=14)"
      ]
    },
    {
      "cell_type": "markdown",
      "metadata": {
        "id": "gIj8a3Ugmegy"
      },
      "source": [
        "# Are the predictor variables independent of all other predictor variables?"
      ]
    },
    {
      "cell_type": "code",
      "execution_count": 116,
      "metadata": {
        "colab": {
          "base_uri": "https://localhost:8080/",
          "height": 269
        },
        "id": "XkxR-pX4mhG6",
        "outputId": "d94dad48-a18e-4f1f-800f-82ee6c7004d1"
      },
      "outputs": [
        {
          "data": {
            "text/html": [
              "\n",
              "  <div id=\"df-e6ec6be1-357b-4ee9-800d-cbf3ac5f0133\" class=\"colab-df-container\">\n",
              "    <div>\n",
              "<style scoped>\n",
              "    .dataframe tbody tr th:only-of-type {\n",
              "        vertical-align: middle;\n",
              "    }\n",
              "\n",
              "    .dataframe tbody tr th {\n",
              "        vertical-align: top;\n",
              "    }\n",
              "\n",
              "    .dataframe thead th {\n",
              "        text-align: right;\n",
              "    }\n",
              "</style>\n",
              "<table border=\"1\" class=\"dataframe\">\n",
              "  <thead>\n",
              "    <tr style=\"text-align: right;\">\n",
              "      <th></th>\n",
              "      <th>Airline</th>\n",
              "      <th>Flight</th>\n",
              "      <th>AirportFrom</th>\n",
              "      <th>AirportTo</th>\n",
              "      <th>DayOfWeek</th>\n",
              "      <th>Time</th>\n",
              "      <th>Length</th>\n",
              "    </tr>\n",
              "  </thead>\n",
              "  <tbody>\n",
              "    <tr>\n",
              "      <th>Airline</th>\n",
              "      <td>1.000000</td>\n",
              "      <td>-0.256754</td>\n",
              "      <td>-0.065586</td>\n",
              "      <td>-0.065986</td>\n",
              "      <td>-0.003534</td>\n",
              "      <td>-0.009855</td>\n",
              "      <td>0.061575</td>\n",
              "    </tr>\n",
              "    <tr>\n",
              "      <th>Flight</th>\n",
              "      <td>-0.256754</td>\n",
              "      <td>1.000000</td>\n",
              "      <td>0.005502</td>\n",
              "      <td>0.006115</td>\n",
              "      <td>0.000416</td>\n",
              "      <td>-0.005750</td>\n",
              "      <td>-0.341481</td>\n",
              "    </tr>\n",
              "    <tr>\n",
              "      <th>AirportFrom</th>\n",
              "      <td>-0.065586</td>\n",
              "      <td>0.005502</td>\n",
              "      <td>1.000000</td>\n",
              "      <td>-0.025400</td>\n",
              "      <td>0.003849</td>\n",
              "      <td>-0.028701</td>\n",
              "      <td>0.048232</td>\n",
              "    </tr>\n",
              "    <tr>\n",
              "      <th>AirportTo</th>\n",
              "      <td>-0.065986</td>\n",
              "      <td>0.006115</td>\n",
              "      <td>-0.025400</td>\n",
              "      <td>1.000000</td>\n",
              "      <td>0.003904</td>\n",
              "      <td>0.038717</td>\n",
              "      <td>0.014517</td>\n",
              "    </tr>\n",
              "    <tr>\n",
              "      <th>DayOfWeek</th>\n",
              "      <td>-0.003534</td>\n",
              "      <td>0.000416</td>\n",
              "      <td>0.003849</td>\n",
              "      <td>0.003904</td>\n",
              "      <td>1.000000</td>\n",
              "      <td>0.001273</td>\n",
              "      <td>0.013397</td>\n",
              "    </tr>\n",
              "    <tr>\n",
              "      <th>Time</th>\n",
              "      <td>-0.009855</td>\n",
              "      <td>-0.005750</td>\n",
              "      <td>-0.028701</td>\n",
              "      <td>0.038717</td>\n",
              "      <td>0.001273</td>\n",
              "      <td>1.000000</td>\n",
              "      <td>-0.020612</td>\n",
              "    </tr>\n",
              "    <tr>\n",
              "      <th>Length</th>\n",
              "      <td>0.061575</td>\n",
              "      <td>-0.341481</td>\n",
              "      <td>0.048232</td>\n",
              "      <td>0.014517</td>\n",
              "      <td>0.013397</td>\n",
              "      <td>-0.020612</td>\n",
              "      <td>1.000000</td>\n",
              "    </tr>\n",
              "  </tbody>\n",
              "</table>\n",
              "</div>\n",
              "    <div class=\"colab-df-buttons\">\n",
              "\n",
              "  <div class=\"colab-df-container\">\n",
              "    <button class=\"colab-df-convert\" onclick=\"convertToInteractive('df-e6ec6be1-357b-4ee9-800d-cbf3ac5f0133')\"\n",
              "            title=\"Convert this dataframe to an interactive table.\"\n",
              "            style=\"display:none;\">\n",
              "\n",
              "  <svg xmlns=\"http://www.w3.org/2000/svg\" height=\"24px\" viewBox=\"0 -960 960 960\">\n",
              "    <path d=\"M120-120v-720h720v720H120Zm60-500h600v-160H180v160Zm220 220h160v-160H400v160Zm0 220h160v-160H400v160ZM180-400h160v-160H180v160Zm440 0h160v-160H620v160ZM180-180h160v-160H180v160Zm440 0h160v-160H620v160Z\"/>\n",
              "  </svg>\n",
              "    </button>\n",
              "\n",
              "  <style>\n",
              "    .colab-df-container {\n",
              "      display:flex;\n",
              "      gap: 12px;\n",
              "    }\n",
              "\n",
              "    .colab-df-convert {\n",
              "      background-color: #E8F0FE;\n",
              "      border: none;\n",
              "      border-radius: 50%;\n",
              "      cursor: pointer;\n",
              "      display: none;\n",
              "      fill: #1967D2;\n",
              "      height: 32px;\n",
              "      padding: 0 0 0 0;\n",
              "      width: 32px;\n",
              "    }\n",
              "\n",
              "    .colab-df-convert:hover {\n",
              "      background-color: #E2EBFA;\n",
              "      box-shadow: 0px 1px 2px rgba(60, 64, 67, 0.3), 0px 1px 3px 1px rgba(60, 64, 67, 0.15);\n",
              "      fill: #174EA6;\n",
              "    }\n",
              "\n",
              "    .colab-df-buttons div {\n",
              "      margin-bottom: 4px;\n",
              "    }\n",
              "\n",
              "    [theme=dark] .colab-df-convert {\n",
              "      background-color: #3B4455;\n",
              "      fill: #D2E3FC;\n",
              "    }\n",
              "\n",
              "    [theme=dark] .colab-df-convert:hover {\n",
              "      background-color: #434B5C;\n",
              "      box-shadow: 0px 1px 3px 1px rgba(0, 0, 0, 0.15);\n",
              "      filter: drop-shadow(0px 1px 2px rgba(0, 0, 0, 0.3));\n",
              "      fill: #FFFFFF;\n",
              "    }\n",
              "  </style>\n",
              "\n",
              "    <script>\n",
              "      const buttonEl =\n",
              "        document.querySelector('#df-e6ec6be1-357b-4ee9-800d-cbf3ac5f0133 button.colab-df-convert');\n",
              "      buttonEl.style.display =\n",
              "        google.colab.kernel.accessAllowed ? 'block' : 'none';\n",
              "\n",
              "      async function convertToInteractive(key) {\n",
              "        const element = document.querySelector('#df-e6ec6be1-357b-4ee9-800d-cbf3ac5f0133');\n",
              "        const dataTable =\n",
              "          await google.colab.kernel.invokeFunction('convertToInteractive',\n",
              "                                                    [key], {});\n",
              "        if (!dataTable) return;\n",
              "\n",
              "        const docLinkHtml = 'Like what you see? Visit the ' +\n",
              "          '<a target=\"_blank\" href=https://colab.research.google.com/notebooks/data_table.ipynb>data table notebook</a>'\n",
              "          + ' to learn more about interactive tables.';\n",
              "        element.innerHTML = '';\n",
              "        dataTable['output_type'] = 'display_data';\n",
              "        await google.colab.output.renderOutput(dataTable, element);\n",
              "        const docLink = document.createElement('div');\n",
              "        docLink.innerHTML = docLinkHtml;\n",
              "        element.appendChild(docLink);\n",
              "      }\n",
              "    </script>\n",
              "  </div>\n",
              "\n",
              "\n",
              "<div id=\"df-07db4b04-7f95-4786-92af-9c919a16eb84\">\n",
              "  <button class=\"colab-df-quickchart\" onclick=\"quickchart('df-07db4b04-7f95-4786-92af-9c919a16eb84')\"\n",
              "            title=\"Suggest charts.\"\n",
              "            style=\"display:none;\">\n",
              "\n",
              "<svg xmlns=\"http://www.w3.org/2000/svg\" height=\"24px\"viewBox=\"0 0 24 24\"\n",
              "     width=\"24px\">\n",
              "    <g>\n",
              "        <path d=\"M19 3H5c-1.1 0-2 .9-2 2v14c0 1.1.9 2 2 2h14c1.1 0 2-.9 2-2V5c0-1.1-.9-2-2-2zM9 17H7v-7h2v7zm4 0h-2V7h2v10zm4 0h-2v-4h2v4z\"/>\n",
              "    </g>\n",
              "</svg>\n",
              "  </button>\n",
              "\n",
              "<style>\n",
              "  .colab-df-quickchart {\n",
              "      --bg-color: #E8F0FE;\n",
              "      --fill-color: #1967D2;\n",
              "      --hover-bg-color: #E2EBFA;\n",
              "      --hover-fill-color: #174EA6;\n",
              "      --disabled-fill-color: #AAA;\n",
              "      --disabled-bg-color: #DDD;\n",
              "  }\n",
              "\n",
              "  [theme=dark] .colab-df-quickchart {\n",
              "      --bg-color: #3B4455;\n",
              "      --fill-color: #D2E3FC;\n",
              "      --hover-bg-color: #434B5C;\n",
              "      --hover-fill-color: #FFFFFF;\n",
              "      --disabled-bg-color: #3B4455;\n",
              "      --disabled-fill-color: #666;\n",
              "  }\n",
              "\n",
              "  .colab-df-quickchart {\n",
              "    background-color: var(--bg-color);\n",
              "    border: none;\n",
              "    border-radius: 50%;\n",
              "    cursor: pointer;\n",
              "    display: none;\n",
              "    fill: var(--fill-color);\n",
              "    height: 32px;\n",
              "    padding: 0;\n",
              "    width: 32px;\n",
              "  }\n",
              "\n",
              "  .colab-df-quickchart:hover {\n",
              "    background-color: var(--hover-bg-color);\n",
              "    box-shadow: 0 1px 2px rgba(60, 64, 67, 0.3), 0 1px 3px 1px rgba(60, 64, 67, 0.15);\n",
              "    fill: var(--button-hover-fill-color);\n",
              "  }\n",
              "\n",
              "  .colab-df-quickchart-complete:disabled,\n",
              "  .colab-df-quickchart-complete:disabled:hover {\n",
              "    background-color: var(--disabled-bg-color);\n",
              "    fill: var(--disabled-fill-color);\n",
              "    box-shadow: none;\n",
              "  }\n",
              "\n",
              "  .colab-df-spinner {\n",
              "    border: 2px solid var(--fill-color);\n",
              "    border-color: transparent;\n",
              "    border-bottom-color: var(--fill-color);\n",
              "    animation:\n",
              "      spin 1s steps(1) infinite;\n",
              "  }\n",
              "\n",
              "  @keyframes spin {\n",
              "    0% {\n",
              "      border-color: transparent;\n",
              "      border-bottom-color: var(--fill-color);\n",
              "      border-left-color: var(--fill-color);\n",
              "    }\n",
              "    20% {\n",
              "      border-color: transparent;\n",
              "      border-left-color: var(--fill-color);\n",
              "      border-top-color: var(--fill-color);\n",
              "    }\n",
              "    30% {\n",
              "      border-color: transparent;\n",
              "      border-left-color: var(--fill-color);\n",
              "      border-top-color: var(--fill-color);\n",
              "      border-right-color: var(--fill-color);\n",
              "    }\n",
              "    40% {\n",
              "      border-color: transparent;\n",
              "      border-right-color: var(--fill-color);\n",
              "      border-top-color: var(--fill-color);\n",
              "    }\n",
              "    60% {\n",
              "      border-color: transparent;\n",
              "      border-right-color: var(--fill-color);\n",
              "    }\n",
              "    80% {\n",
              "      border-color: transparent;\n",
              "      border-right-color: var(--fill-color);\n",
              "      border-bottom-color: var(--fill-color);\n",
              "    }\n",
              "    90% {\n",
              "      border-color: transparent;\n",
              "      border-bottom-color: var(--fill-color);\n",
              "    }\n",
              "  }\n",
              "</style>\n",
              "\n",
              "  <script>\n",
              "    async function quickchart(key) {\n",
              "      const quickchartButtonEl =\n",
              "        document.querySelector('#' + key + ' button');\n",
              "      quickchartButtonEl.disabled = true;  // To prevent multiple clicks.\n",
              "      quickchartButtonEl.classList.add('colab-df-spinner');\n",
              "      try {\n",
              "        const charts = await google.colab.kernel.invokeFunction(\n",
              "            'suggestCharts', [key], {});\n",
              "      } catch (error) {\n",
              "        console.error('Error during call to suggestCharts:', error);\n",
              "      }\n",
              "      quickchartButtonEl.classList.remove('colab-df-spinner');\n",
              "      quickchartButtonEl.classList.add('colab-df-quickchart-complete');\n",
              "    }\n",
              "    (() => {\n",
              "      let quickchartButtonEl =\n",
              "        document.querySelector('#df-07db4b04-7f95-4786-92af-9c919a16eb84 button');\n",
              "      quickchartButtonEl.style.display =\n",
              "        google.colab.kernel.accessAllowed ? 'block' : 'none';\n",
              "    })();\n",
              "  </script>\n",
              "</div>\n",
              "    </div>\n",
              "  </div>\n"
            ],
            "text/plain": [
              "              Airline    Flight  AirportFrom  AirportTo  DayOfWeek      Time  \\\n",
              "Airline      1.000000 -0.256754    -0.065586  -0.065986  -0.003534 -0.009855   \n",
              "Flight      -0.256754  1.000000     0.005502   0.006115   0.000416 -0.005750   \n",
              "AirportFrom -0.065586  0.005502     1.000000  -0.025400   0.003849 -0.028701   \n",
              "AirportTo   -0.065986  0.006115    -0.025400   1.000000   0.003904  0.038717   \n",
              "DayOfWeek   -0.003534  0.000416     0.003849   0.003904   1.000000  0.001273   \n",
              "Time        -0.009855 -0.005750    -0.028701   0.038717   0.001273  1.000000   \n",
              "Length       0.061575 -0.341481     0.048232   0.014517   0.013397 -0.020612   \n",
              "\n",
              "               Length  \n",
              "Airline      0.061575  \n",
              "Flight      -0.341481  \n",
              "AirportFrom  0.048232  \n",
              "AirportTo    0.014517  \n",
              "DayOfWeek    0.013397  \n",
              "Time        -0.020612  \n",
              "Length       1.000000  "
            ]
          },
          "execution_count": 116,
          "metadata": {},
          "output_type": "execute_result"
        }
      ],
      "source": [
        "x.corr()"
      ]
    },
    {
      "cell_type": "code",
      "execution_count": 119,
      "metadata": {
        "colab": {
          "base_uri": "https://localhost:8080/",
          "height": 559
        },
        "id": "4gsJhuX-mw6s",
        "outputId": "38bcc494-dd88-4250-da9d-98736dd35cb4"
      },
      "outputs": [
        {
          "data": {
            "image/png": "[encoded data removed]",
            "text/plain": [
              "<Figure size 2000x700 with 2 Axes>"
            ]
          },
          "metadata": {},
          "output_type": "display_data"
        }
      ],
      "source": [
        "plt.figure(figsize=(20,7))\n",
        "cor = x.corr()\n",
        "sns.heatmap(cor, annot=True, cmap=plt.cm.Reds)\n",
        "plt.show()"
      ]
    },
    {
      "cell_type": "markdown",
      "metadata": {
        "id": "hoLH1OzMnV7U"
      },
      "source": [
        "*   It is very clear from the heatmap that most of the variables are not dependent on each other\n",
        "*   Degree of collinearity is significantly less that 0.1 for most variables\n",
        "\n",
        "\n",
        "\n",
        "\n",
        "\n"
      ]
    },
    {
      "cell_type": "markdown",
      "metadata": {
        "id": "jQmUmjP_pcAf"
      },
      "source": [
        "Creating a Train - Test split for our model training and predictions"
      ]
    },
    {
      "cell_type": "code",
      "execution_count": 120,
      "metadata": {
        "id": "frPzwX7qpdYG"
      },
      "outputs": [],
      "source": [
        "#Spliting data into Training 80% and Test set 20%\n",
        "\n",
        "X_train, X_test, y_train, y_test = train_test_split(x, y, test_size=0.2, random_state=1)"
      ]
    },
    {
      "cell_type": "markdown",
      "metadata": {
        "id": "gM41nwXYqxpq"
      },
      "source": [
        "# Do the training and test sets have the same data?"
      ]
    },
    {
      "cell_type": "code",
      "execution_count": 121,
      "metadata": {
        "colab": {
          "base_uri": "https://localhost:8080/",
          "height": 1000
        },
        "id": "Hsa5fOiAqy_j",
        "outputId": "3bee8e89-06ee-4990-8a50-dfc77416cc58"
      },
      "outputs": [
        {
          "data": {
            "image/png": "[encoded data removed]",
            "text/plain": [
              "<Figure size 600x700 with 1 Axes>"
            ]
          },
          "metadata": {},
          "output_type": "display_data"
        },
        {
          "data": {
            "image/png": "[encoded data removed]",
            "text/plain": [
              "<Figure size 600x700 with 1 Axes>"
            ]
          },
          "metadata": {},
          "output_type": "display_data"
        },
        {
          "data": {
            "image/png": "[encoded data removed]",
            "text/plain": [
              "<Figure size 600x700 with 1 Axes>"
            ]
          },
          "metadata": {},
          "output_type": "display_data"
        },
        {
          "data": {
            "image/png": "[encoded data removed]",
            "text/plain": [
              "<Figure size 600x700 with 1 Axes>"
            ]
          },
          "metadata": {},
          "output_type": "display_data"
        },
        {
          "data": {
            "image/png": "[encoded data removed]",
            "text/plain": [
              "<Figure size 600x700 with 1 Axes>"
            ]
          },
          "metadata": {},
          "output_type": "display_data"
        },
        {
          "data": {
            "image/png": "[encoded data removed]",
            "text/plain": [
              "<Figure size 600x700 with 1 Axes>"
            ]
          },
          "metadata": {},
          "output_type": "display_data"
        },
        {
          "data": {
            "image/png": "[encoded data removed]",
            "text/plain": [
              "<Figure size 600x700 with 1 Axes>"
            ]
          },
          "metadata": {},
          "output_type": "display_data"
        }
      ],
      "source": [
        "# Looking the data for test and training set\n",
        "X_test_plot = X_test\n",
        "X_train_plot = X_train\n",
        "\n",
        "#Plotting the data to see the histogram\n",
        "for c in X_test_plot.columns[:]:\n",
        "    plt.figure(figsize=(6,7))\n",
        "    plt.hist(X_train_plot[c], bins=10, alpha=0.5, label=\"Train Set\", color=\"darkgreen\")\n",
        "    plt.hist(X_test_plot[c], bins=10, alpha=0.5, label=\"Test Set\", color =\"red\")\n",
        "    plt.xlabel(c, size=14)\n",
        "    plt.ylabel(\"Count\", size=14)\n",
        "    plt.legend(loc='upper right')\n",
        "    plt.title(\"{} distribution\".format(c))\n",
        "    plt.show()\n",
        "\n"
      ]
    },
    {
      "cell_type": "markdown",
      "metadata": {
        "id": "-GO24NU5rH9h"
      },
      "source": [
        "As observed from the plots above, the ratio of 80%-20% for train-test split appears to be distributed correctly for all the variables."
      ]
    },
    {
      "cell_type": "markdown",
      "metadata": {
        "id": "67xw2sOIsDyL"
      },
      "source": [
        "# Which predictor variables are the most useful to predict a target?"
      ]
    },
    {
      "cell_type": "markdown",
      "metadata": {
        "id": "yLWh7vFrsPHM"
      },
      "source": [
        "**Method 1 : Using Random Forest Classifier**"
      ]
    },
    {
      "cell_type": "code",
      "execution_count": 126,
      "metadata": {
        "colab": {
          "base_uri": "https://localhost:8080/",
          "height": 642
        },
        "id": "6UgXEyQ9smwZ",
        "outputId": "8648146a-54c7-46b3-8b5c-fd170a0b5fe2"
      },
      "outputs": [
        {
          "data": {
            "text/plain": [
              "Text(0.5, 1.0, 'Feature Importance ')"
            ]
          },
          "execution_count": 126,
          "metadata": {},
          "output_type": "execute_result"
        },
        {
          "data": {
            "image/png": "[encoded data removed]",
            "text/plain": [
              "<Figure size 1500x700 with 1 Axes>"
            ]
          },
          "metadata": {},
          "output_type": "display_data"
        }
      ],
      "source": [
        "model_RandomForest = RandomForestClassifier()\n",
        "model_RandomForest.fit(X_train, y_train)\n",
        "cols=X_train.columns\n",
        "plt.figure(figsize=(15, 7))\n",
        "plt.barh(cols,model_RandomForest.feature_importances_)\n",
        "plt.title('Feature Importance ', size=16)"
      ]
    },
    {
      "cell_type": "markdown",
      "metadata": {
        "id": "YJopTNCtuijE"
      },
      "source": [
        "From the above plot, we can see that the following predictor variables are useful in predicting the target - Day of Week, Time of Departure, Duration of the flight, Fight Number"
      ]
    },
    {
      "cell_type": "markdown",
      "metadata": {
        "id": "JRhttUYrvHRl"
      },
      "source": [
        "**Method 2: Using Ordinary Least Squares(OLS)**"
      ]
    },
    {
      "cell_type": "code",
      "execution_count": 127,
      "metadata": {
        "colab": {
          "base_uri": "https://localhost:8080/",
          "height": 576
        },
        "id": "HijurHpAvMgP",
        "outputId": "f431a4d4-f816-45e1-af7a-39b196f78b74"
      },
      "outputs": [
        {
          "data": {
            "text/html": [
              "<table class=\"simpletable\">\n",
              "<caption>OLS Regression Results</caption>\n",
              "<tr>\n",
              "  <th>Dep. Variable:</th>          <td>Delay</td>      <th>  R-squared (uncentered):</th>       <td>   0.462</td>  \n",
              "</tr>\n",
              "<tr>\n",
              "  <th>Model:</th>                   <td>OLS</td>       <th>  Adj. R-squared (uncentered):</th>  <td>   0.462</td>  \n",
              "</tr>\n",
              "<tr>\n",
              "  <th>Method:</th>             <td>Least Squares</td>  <th>  F-statistic:       </th>           <td>5.298e+04</td> \n",
              "</tr>\n",
              "<tr>\n",
              "  <th>Date:</th>             <td>Mon, 02 Oct 2023</td> <th>  Prob (F-statistic):</th>            <td>  0.00</td>   \n",
              "</tr>\n",
              "<tr>\n",
              "  <th>Time:</th>                 <td>23:33:31</td>     <th>  Log-Likelihood:    </th>          <td>-3.0390e+05</td>\n",
              "</tr>\n",
              "<tr>\n",
              "  <th>No. Observations:</th>      <td>431506</td>      <th>  AIC:               </th>           <td>6.078e+05</td> \n",
              "</tr>\n",
              "<tr>\n",
              "  <th>Df Residuals:</th>          <td>431499</td>      <th>  BIC:               </th>           <td>6.079e+05</td> \n",
              "</tr>\n",
              "<tr>\n",
              "  <th>Df Model:</th>              <td>     7</td>      <th>                     </th>               <td> </td>     \n",
              "</tr>\n",
              "<tr>\n",
              "  <th>Covariance Type:</th>      <td>nonrobust</td>    <th>                     </th>               <td> </td>     \n",
              "</tr>\n",
              "</table>\n",
              "<table class=\"simpletable\">\n",
              "<tr>\n",
              "       <td></td>          <th>coef</th>     <th>std err</th>      <th>t</th>      <th>P>|t|</th>  <th>[0.025</th>    <th>0.975]</th>  \n",
              "</tr>\n",
              "<tr>\n",
              "  <th>Airline</th>     <td>    0.1876</td> <td>    0.002</td> <td>   84.710</td> <td> 0.000</td> <td>    0.183</td> <td>    0.192</td>\n",
              "</tr>\n",
              "<tr>\n",
              "  <th>Flight</th>      <td>    0.0472</td> <td>    0.003</td> <td>   17.193</td> <td> 0.000</td> <td>    0.042</td> <td>    0.053</td>\n",
              "</tr>\n",
              "<tr>\n",
              "  <th>AirportFrom</th> <td>   -0.0118</td> <td>    0.002</td> <td>   -5.289</td> <td> 0.000</td> <td>   -0.016</td> <td>   -0.007</td>\n",
              "</tr>\n",
              "<tr>\n",
              "  <th>AirportTo</th>   <td>    0.0106</td> <td>    0.002</td> <td>    4.717</td> <td> 0.000</td> <td>    0.006</td> <td>    0.015</td>\n",
              "</tr>\n",
              "<tr>\n",
              "  <th>DayOfWeek</th>   <td>   -0.0104</td> <td>    0.002</td> <td>   -4.645</td> <td> 0.000</td> <td>   -0.015</td> <td>   -0.006</td>\n",
              "</tr>\n",
              "<tr>\n",
              "  <th>Time</th>        <td>    0.4836</td> <td>    0.003</td> <td>  151.966</td> <td> 0.000</td> <td>    0.477</td> <td>    0.490</td>\n",
              "</tr>\n",
              "<tr>\n",
              "  <th>Length</th>      <td>    0.3311</td> <td>    0.007</td> <td>   50.329</td> <td> 0.000</td> <td>    0.318</td> <td>    0.344</td>\n",
              "</tr>\n",
              "</table>\n",
              "<table class=\"simpletable\">\n",
              "<tr>\n",
              "  <th>Omnibus:</th>       <td>1766563.715</td> <th>  Durbin-Watson:     </th> <td>   1.994</td> \n",
              "</tr>\n",
              "<tr>\n",
              "  <th>Prob(Omnibus):</th>   <td> 0.000</td>    <th>  Jarque-Bera (JB):  </th> <td>57604.367</td>\n",
              "</tr>\n",
              "<tr>\n",
              "  <th>Skew:</th>            <td> 0.193</td>    <th>  Prob(JB):          </th> <td>    0.00</td> \n",
              "</tr>\n",
              "<tr>\n",
              "  <th>Kurtosis:</th>        <td> 1.252</td>    <th>  Cond. No.          </th> <td>    10.7</td> \n",
              "</tr>\n",
              "</table><br/><br/>Notes:<br/>[1] R² is computed without centering (uncentered) since the model does not contain a constant.<br/>[2] Standard Errors assume that the covariance matrix of the errors is correctly specified."
            ],
            "text/latex": [
              "\\begin{center}\n",
              "\\begin{tabular}{lclc}\n",
              "\\toprule\n",
              "\\textbf{Dep. Variable:}    &      Delay       & \\textbf{  R-squared (uncentered):}      &      0.462   \\\\\n",
              "\\textbf{Model:}            &       OLS        & \\textbf{  Adj. R-squared (uncentered):} &      0.462   \\\\\n",
              "\\textbf{Method:}           &  Least Squares   & \\textbf{  F-statistic:       }          &  5.298e+04   \\\\\n",
              "\\textbf{Date:}             & Mon, 02 Oct 2023 & \\textbf{  Prob (F-statistic):}          &      0.00    \\\\\n",
              "\\textbf{Time:}             &     23:33:31     & \\textbf{  Log-Likelihood:    }          & -3.0390e+05  \\\\\n",
              "\\textbf{No. Observations:} &      431506      & \\textbf{  AIC:               }          &  6.078e+05   \\\\\n",
              "\\textbf{Df Residuals:}     &      431499      & \\textbf{  BIC:               }          &  6.079e+05   \\\\\n",
              "\\textbf{Df Model:}         &           7      & \\textbf{                     }          &              \\\\\n",
              "\\textbf{Covariance Type:}  &    nonrobust     & \\textbf{                     }          &              \\\\\n",
              "\\bottomrule\n",
              "\\end{tabular}\n",
              "\\begin{tabular}{lcccccc}\n",
              "                     & \\textbf{coef} & \\textbf{std err} & \\textbf{t} & \\textbf{P$> |$t$|$} & \\textbf{[0.025} & \\textbf{0.975]}  \\\\\n",
              "\\midrule\n",
              "\\textbf{Airline}     &       0.1876  &        0.002     &    84.710  &         0.000        &        0.183    &        0.192     \\\\\n",
              "\\textbf{Flight}      &       0.0472  &        0.003     &    17.193  &         0.000        &        0.042    &        0.053     \\\\\n",
              "\\textbf{AirportFrom} &      -0.0118  &        0.002     &    -5.289  &         0.000        &       -0.016    &       -0.007     \\\\\n",
              "\\textbf{AirportTo}   &       0.0106  &        0.002     &     4.717  &         0.000        &        0.006    &        0.015     \\\\\n",
              "\\textbf{DayOfWeek}   &      -0.0104  &        0.002     &    -4.645  &         0.000        &       -0.015    &       -0.006     \\\\\n",
              "\\textbf{Time}        &       0.4836  &        0.003     &   151.966  &         0.000        &        0.477    &        0.490     \\\\\n",
              "\\textbf{Length}      &       0.3311  &        0.007     &    50.329  &         0.000        &        0.318    &        0.344     \\\\\n",
              "\\bottomrule\n",
              "\\end{tabular}\n",
              "\\begin{tabular}{lclc}\n",
              "\\textbf{Omnibus:}       & 1766563.715 & \\textbf{  Durbin-Watson:     } &     1.994  \\\\\n",
              "\\textbf{Prob(Omnibus):} &     0.000   & \\textbf{  Jarque-Bera (JB):  } & 57604.367  \\\\\n",
              "\\textbf{Skew:}          &     0.193   & \\textbf{  Prob(JB):          } &      0.00  \\\\\n",
              "\\textbf{Kurtosis:}      &     1.252   & \\textbf{  Cond. No.          } &      10.7  \\\\\n",
              "\\bottomrule\n",
              "\\end{tabular}\n",
              "%\\caption{OLS Regression Results}\n",
              "\\end{center}\n",
              "\n",
              "Notes: \\newline\n",
              " [1] R² is computed without centering (uncentered) since the model does not contain a constant. \\newline\n",
              " [2] Standard Errors assume that the covariance matrix of the errors is correctly specified."
            ],
            "text/plain": [
              "<class 'statsmodels.iolib.summary.Summary'>\n",
              "\"\"\"\n",
              "                                 OLS Regression Results                                \n",
              "=======================================================================================\n",
              "Dep. Variable:                  Delay   R-squared (uncentered):                   0.462\n",
              "Model:                            OLS   Adj. R-squared (uncentered):              0.462\n",
              "Method:                 Least Squares   F-statistic:                          5.298e+04\n",
              "Date:                Mon, 02 Oct 2023   Prob (F-statistic):                        0.00\n",
              "Time:                        23:33:31   Log-Likelihood:                     -3.0390e+05\n",
              "No. Observations:              431506   AIC:                                  6.078e+05\n",
              "Df Residuals:                  431499   BIC:                                  6.079e+05\n",
              "Df Model:                           7                                                  \n",
              "Covariance Type:            nonrobust                                                  \n",
              "===============================================================================\n",
              "                  coef    std err          t      P>|t|      [0.025      0.975]\n",
              "-------------------------------------------------------------------------------\n",
              "Airline         0.1876      0.002     84.710      0.000       0.183       0.192\n",
              "Flight          0.0472      0.003     17.193      0.000       0.042       0.053\n",
              "AirportFrom    -0.0118      0.002     -5.289      0.000      -0.016      -0.007\n",
              "AirportTo       0.0106      0.002      4.717      0.000       0.006       0.015\n",
              "DayOfWeek      -0.0104      0.002     -4.645      0.000      -0.015      -0.006\n",
              "Time            0.4836      0.003    151.966      0.000       0.477       0.490\n",
              "Length          0.3311      0.007     50.329      0.000       0.318       0.344\n",
              "==============================================================================\n",
              "Omnibus:                  1766563.715   Durbin-Watson:                   1.994\n",
              "Prob(Omnibus):                  0.000   Jarque-Bera (JB):            57604.367\n",
              "Skew:                           0.193   Prob(JB):                         0.00\n",
              "Kurtosis:                       1.252   Cond. No.                         10.7\n",
              "==============================================================================\n",
              "\n",
              "Notes:\n",
              "[1] R² is computed without centering (uncentered) since the model does not contain a constant.\n",
              "[2] Standard Errors assume that the covariance matrix of the errors is correctly specified.\n",
              "\"\"\""
            ]
          },
          "execution_count": 127,
          "metadata": {},
          "output_type": "execute_result"
        }
      ],
      "source": [
        "import statsmodels.api as sm\n",
        "\n",
        "model_OLS = sm.OLS(y_train, X_train).fit()\n",
        "\n",
        "model_OLS.summary()\n"
      ]
    },
    {
      "cell_type": "markdown",
      "metadata": {
        "id": "erLZ1oJhxDDg"
      },
      "source": [
        "Observations -\n",
        "*   The \"Time\" variable has the highest coefficient (0.4836), indicating the strongest positive relationship with \"Delay.\"\n",
        "*   The \"Length\" variable also has a substantial positive coefficient (0.3311), suggesting a significant positive relationship with \"Delay.\"\n",
        "\n",
        "These two are the most useful features in predicting the target\n",
        "\n"
      ]
    },
    {
      "cell_type": "markdown",
      "metadata": {
        "id": "lH2Zrnkjxad2"
      },
      "source": [
        "**Method 3: Using Logistic Regression**"
      ]
    },
    {
      "cell_type": "code",
      "execution_count": 129,
      "metadata": {
        "colab": {
          "base_uri": "https://localhost:8080/"
        },
        "id": "SA6IJNo1xe3F",
        "outputId": "ba392c1d-34ee-4fe5-f92e-d1df2a03e63a"
      },
      "outputs": [
        {
          "name": "stdout",
          "output_type": "stream",
          "text": [
            "Optimization terminated successfully.\n",
            "         Current function value: 0.677293\n",
            "         Iterations 4\n",
            "                           Logit Regression Results                           \n",
            "==============================================================================\n",
            "Dep. Variable:                  Delay   No. Observations:               431506\n",
            "Model:                          Logit   Df Residuals:                   431499\n",
            "Method:                           MLE   Df Model:                            6\n",
            "Date:                Mon, 02 Oct 2023   Pseudo R-squ.:                 0.01434\n",
            "Time:                        23:43:49   Log-Likelihood:            -2.9226e+05\n",
            "converged:                       True   LL-Null:                   -2.9651e+05\n",
            "Covariance Type:            nonrobust   LLR p-value:                     0.000\n",
            "===============================================================================\n",
            "                  coef    std err          z      P>|z|      [0.025      0.975]\n",
            "-------------------------------------------------------------------------------\n",
            "Airline         0.2171      0.009     23.634      0.000       0.199       0.235\n",
            "Flight         -0.5612      0.012    -48.779      0.000      -0.584      -0.539\n",
            "AirportFrom    -0.4057      0.009    -43.468      0.000      -0.424      -0.387\n",
            "AirportTo      -0.2884      0.009    -30.734      0.000      -0.307      -0.270\n",
            "DayOfWeek      -0.3924      0.009    -42.135      0.000      -0.411      -0.374\n",
            "Time            0.8658      0.013     65.060      0.000       0.840       0.892\n",
            "Length         -0.4563      0.027    -16.712      0.000      -0.510      -0.403\n",
            "===============================================================================\n"
          ]
        }
      ],
      "source": [
        "import statsmodels.api as sd\n",
        "model_Logistic = sd.Logit(y_train,X_train).fit()\n",
        "print(model_Logistic.summary())\n"
      ]
    },
    {
      "cell_type": "markdown",
      "metadata": {
        "id": "eXcoa3BEyUMf"
      },
      "source": [
        "*   \"Time\" has the largest positive coefficient (0.8658), suggesting it has the most significant positive impact on the log-odds of \"Delay.\"\n",
        "*   \"Flight\" has a large negative coefficient (-0.5612), indicating a significant negative impact on the log-odds of \"Delay.\"\n",
        "\n"
      ]
    },
    {
      "cell_type": "code",
      "execution_count": 131,
      "metadata": {
        "colab": {
          "base_uri": "https://localhost:8080/",
          "height": 370
        },
        "id": "5_g9uDcfyWkg",
        "outputId": "4bb1b285-760c-42ea-cd79-580ffae36062"
      },
      "outputs": [
        {
          "name": "stdout",
          "output_type": "stream",
          "text": [
            "Requirement already satisfied: eli5 in /usr/local/lib/python3.10/dist-packages (0.13.0)\n",
            "Requirement already satisfied: attrs>17.1.0 in /usr/local/lib/python3.10/dist-packages (from eli5) (23.1.0)\n",
            "Requirement already satisfied: jinja2>=3.0.0 in /usr/local/lib/python3.10/dist-packages (from eli5) (3.1.2)\n",
            "Requirement already satisfied: numpy>=1.9.0 in /usr/local/lib/python3.10/dist-packages (from eli5) (1.23.5)\n",
            "Requirement already satisfied: scipy in /usr/local/lib/python3.10/dist-packages (from eli5) (1.11.2)\n",
            "Requirement already satisfied: six in /usr/local/lib/python3.10/dist-packages (from eli5) (1.16.0)\n",
            "Requirement already satisfied: scikit-learn>=0.20 in /usr/local/lib/python3.10/dist-packages (from eli5) (1.2.2)\n",
            "Requirement already satisfied: graphviz in /usr/local/lib/python3.10/dist-packages (from eli5) (0.20.1)\n",
            "Requirement already satisfied: tabulate>=0.7.7 in /usr/local/lib/python3.10/dist-packages (from eli5) (0.9.0)\n",
            "Requirement already satisfied: MarkupSafe>=2.0 in /usr/local/lib/python3.10/dist-packages (from jinja2>=3.0.0->eli5) (2.1.3)\n",
            "Requirement already satisfied: joblib>=1.1.1 in /usr/local/lib/python3.10/dist-packages (from scikit-learn>=0.20->eli5) (1.3.2)\n",
            "Requirement already satisfied: threadpoolctl>=2.0.0 in /usr/local/lib/python3.10/dist-packages (from scikit-learn>=0.20->eli5) (3.2.0)\n"
          ]
        },
        {
          "data": {
            "text/html": [
              "\n",
              "    <style>\n",
              "    table.eli5-weights tr:hover {\n",
              "        filter: brightness(85%);\n",
              "    }\n",
              "</style>\n",
              "\n",
              "\n",
              "\n",
              "    \n",
              "\n",
              "    \n",
              "\n",
              "    \n",
              "\n",
              "    \n",
              "\n",
              "    \n",
              "\n",
              "    \n",
              "\n",
              "\n",
              "    \n",
              "\n",
              "    \n",
              "\n",
              "    \n",
              "\n",
              "    \n",
              "\n",
              "    \n",
              "\n",
              "    \n",
              "\n",
              "\n",
              "    \n",
              "\n",
              "    \n",
              "\n",
              "    \n",
              "\n",
              "    \n",
              "\n",
              "    \n",
              "        <table class=\"eli5-weights eli5-feature-importances\" style=\"border-collapse: collapse; border: none; margin-top: 0em; table-layout: auto;\">\n",
              "    <thead>\n",
              "    <tr style=\"border: none;\">\n",
              "        <th style=\"padding: 0 1em 0 0.5em; text-align: right; border: none;\">Weight</th>\n",
              "        <th style=\"padding: 0 0.5em 0 0.5em; text-align: left; border: none;\">Feature</th>\n",
              "    </tr>\n",
              "    </thead>\n",
              "    <tbody>\n",
              "    \n",
              "        <tr style=\"background-color: hsl(120, 100.00%, 80.00%); border: none;\">\n",
              "            <td style=\"padding: 0 1em 0 0.5em; text-align: right; border: none;\">\n",
              "                0.0573\n",
              "                \n",
              "                    &plusmn; 0.0028\n",
              "                \n",
              "            </td>\n",
              "            <td style=\"padding: 0 0.5em 0 0.5em; text-align: left; border: none;\">\n",
              "                Airline\n",
              "            </td>\n",
              "        </tr>\n",
              "    \n",
              "        <tr style=\"background-color: hsl(120, 100.00%, 94.33%); border: none;\">\n",
              "            <td style=\"padding: 0 1em 0 0.5em; text-align: right; border: none;\">\n",
              "                0.0095\n",
              "                \n",
              "                    &plusmn; 0.0016\n",
              "                \n",
              "            </td>\n",
              "            <td style=\"padding: 0 0.5em 0 0.5em; text-align: left; border: none;\">\n",
              "                Time\n",
              "            </td>\n",
              "        </tr>\n",
              "    \n",
              "        <tr style=\"background-color: hsl(0, 100.00%, 95.44%); border: none;\">\n",
              "            <td style=\"padding: 0 1em 0 0.5em; text-align: right; border: none;\">\n",
              "                -0.0069\n",
              "                \n",
              "                    &plusmn; 0.0021\n",
              "                \n",
              "            </td>\n",
              "            <td style=\"padding: 0 0.5em 0 0.5em; text-align: left; border: none;\">\n",
              "                DayOfWeek\n",
              "            </td>\n",
              "        </tr>\n",
              "    \n",
              "        <tr style=\"background-color: hsl(0, 100.00%, 93.50%); border: none;\">\n",
              "            <td style=\"padding: 0 1em 0 0.5em; text-align: right; border: none;\">\n",
              "                -0.0115\n",
              "                \n",
              "                    &plusmn; 0.0014\n",
              "                \n",
              "            </td>\n",
              "            <td style=\"padding: 0 0.5em 0 0.5em; text-align: left; border: none;\">\n",
              "                Length\n",
              "            </td>\n",
              "        </tr>\n",
              "    \n",
              "        <tr style=\"background-color: hsl(0, 100.00%, 92.50%); border: none;\">\n",
              "            <td style=\"padding: 0 1em 0 0.5em; text-align: right; border: none;\">\n",
              "                -0.0141\n",
              "                \n",
              "                    &plusmn; 0.0005\n",
              "                \n",
              "            </td>\n",
              "            <td style=\"padding: 0 0.5em 0 0.5em; text-align: left; border: none;\">\n",
              "                Flight\n",
              "            </td>\n",
              "        </tr>\n",
              "    \n",
              "        <tr style=\"background-color: hsl(0, 100.00%, 91.75%); border: none;\">\n",
              "            <td style=\"padding: 0 1em 0 0.5em; text-align: right; border: none;\">\n",
              "                -0.0162\n",
              "                \n",
              "                    &plusmn; 0.0015\n",
              "                \n",
              "            </td>\n",
              "            <td style=\"padding: 0 0.5em 0 0.5em; text-align: left; border: none;\">\n",
              "                AirportFrom\n",
              "            </td>\n",
              "        </tr>\n",
              "    \n",
              "        <tr style=\"background-color: hsl(0, 100.00%, 90.00%); border: none;\">\n",
              "            <td style=\"padding: 0 1em 0 0.5em; text-align: right; border: none;\">\n",
              "                -0.0213\n",
              "                \n",
              "                    &plusmn; 0.0012\n",
              "                \n",
              "            </td>\n",
              "            <td style=\"padding: 0 0.5em 0 0.5em; text-align: left; border: none;\">\n",
              "                AirportTo\n",
              "            </td>\n",
              "        </tr>\n",
              "    \n",
              "    \n",
              "    </tbody>\n",
              "</table>\n",
              "    \n",
              "\n",
              "    \n",
              "\n",
              "\n",
              "    \n",
              "\n",
              "    \n",
              "\n",
              "    \n",
              "\n",
              "    \n",
              "\n",
              "    \n",
              "\n",
              "    \n",
              "\n",
              "\n",
              "\n"
            ],
            "text/plain": [
              "<IPython.core.display.HTML object>"
            ]
          },
          "execution_count": 131,
          "metadata": {},
          "output_type": "execute_result"
        }
      ],
      "source": [
        "#Understanding the important features\n",
        "!pip install eli5\n",
        "import eli5\n",
        "from eli5.sklearn import PermutationImportance\n",
        "perm = PermutationImportance(model_RandomForest, random_state=1).fit(X_test, y_test)\n",
        "eli5.show_weights(perm, feature_names = X_test.columns.tolist())"
      ]
    },
    {
      "cell_type": "markdown",
      "metadata": {
        "id": "UMMPmjZu0Sca"
      },
      "source": [
        "# Creating some baseline models"
      ]
    },
    {
      "cell_type": "markdown",
      "metadata": {
        "id": "4KymVxHG0V5e"
      },
      "source": [
        "**Logistic Regression**"
      ]
    },
    {
      "cell_type": "code",
      "execution_count": 145,
      "metadata": {
        "colab": {
          "base_uri": "https://localhost:8080/"
        },
        "id": "yzSMHmM50Ym6",
        "outputId": "12d1ef0f-9606-4c8d-827b-35866801c366"
      },
      "outputs": [
        {
          "name": "stdout",
          "output_type": "stream",
          "text": [
            "--Phase-1--\n",
            "MAE: 0.414908\n",
            "RMSE: 0.644133\n",
            "R2: -0.679184\n"
          ]
        }
      ],
      "source": [
        "from sklearn.linear_model import LogisticRegression\n",
        "lr = LogisticRegression(random_state=0).fit(X_train, y_train)\n",
        "\n",
        "lr_pred= lr.predict(X_test)\n",
        "print('--Phase-1--')\n",
        "mae1 = mean_absolute_error(y_test, lr_pred)\n",
        "print('MAE: %f'% mae1)\n",
        "rmse1= np.sqrt(mean_squared_error(y_test, lr_pred))\n",
        "print('RMSE: %f'% rmse1)\n",
        "r21 = r2_score(y_test, lr_pred)\n",
        "print('R2: %f' % r21)"
      ]
    },
    {
      "cell_type": "code",
      "execution_count": 146,
      "metadata": {
        "colab": {
          "base_uri": "https://localhost:8080/",
          "height": 1000
        },
        "id": "JEg5kHDH3sVH",
        "outputId": "7e9b3c55-7e32-48de-a012-de1e9bcb5c4e"
      },
      "outputs": [
        {
          "name": "stderr",
          "output_type": "stream",
          "text": [
            "<ipython-input-146-aa7f3493601f>:4: UserWarning: \n",
            "\n",
            "`distplot` is a deprecated function and will be removed in seaborn v0.14.0.\n",
            "\n",
            "Please adapt your code to use either `displot` (a figure-level function with\n",
            "similar flexibility) or `kdeplot` (an axes-level function for kernel density plots).\n",
            "\n",
            "For a guide to updating your code to use the new functions, please see\n",
            "https://gist.github.com/mwaskom/de44147ed2974457ad6372750bbe5751\n",
            "\n",
            "  ax = sns.distplot(y_test, hist=False, color=\"r\", label=\"Actual Value\")\n",
            "<ipython-input-146-aa7f3493601f>:5: UserWarning: \n",
            "\n",
            "`distplot` is a deprecated function and will be removed in seaborn v0.14.0.\n",
            "\n",
            "Please adapt your code to use either `displot` (a figure-level function with\n",
            "similar flexibility) or `kdeplot` (an axes-level function for kernel density plots).\n",
            "\n",
            "For a guide to updating your code to use the new functions, please see\n",
            "https://gist.github.com/mwaskom/de44147ed2974457ad6372750bbe5751\n",
            "\n",
            "  sns.distplot(lr_pred, hist=False, color=\"b\", label=\"Fitted Values\" , ax=ax)\n"
          ]
        },
        {
          "data": {
            "image/png": "[encoded data removed]",
            "text/plain": [
              "<Figure size 500x700 with 1 Axes>"
            ]
          },
          "metadata": {},
          "output_type": "display_data"
        }
      ],
      "source": [
        "plt.figure(figsize=(5, 7))\n",
        "\n",
        "\n",
        "ax = sns.distplot(y_test, hist=False, color=\"r\", label=\"Actual Value\")\n",
        "sns.distplot(lr_pred, hist=False, color=\"b\", label=\"Fitted Values\" , ax=ax)\n",
        "\n",
        "\n",
        "plt.title('Actual(red) vs Fitted(blue) Values for Quality')\n",
        "\n",
        "\n",
        "plt.show()\n",
        "plt.close()"
      ]
    },
    {
      "cell_type": "markdown",
      "metadata": {
        "id": "orziQbVA0g5M"
      },
      "source": [
        "**Random Forest**"
      ]
    },
    {
      "cell_type": "code",
      "execution_count": 148,
      "metadata": {
        "colab": {
          "base_uri": "https://localhost:8080/"
        },
        "id": "T0QEijx00iuy",
        "outputId": "b463ad31-ba1a-4d1f-96e0-57dd5d1fd6e2"
      },
      "outputs": [
        {
          "name": "stdout",
          "output_type": "stream",
          "text": [
            "--Phase-1--\n",
            "MAE: 0.380730\n",
            "RMSE: 0.617033\n",
            "R2: -0.540862\n"
          ]
        }
      ],
      "source": [
        "rf = RandomForestClassifier(random_state=0)\n",
        "rf.fit(X_train, y_train)\n",
        "\n",
        "rf_pred = rf.predict(X_test)\n",
        "\n",
        "print('--Phase-1--')\n",
        "mae2 = mean_absolute_error(y_test, rf_pred)\n",
        "print('MAE: %f'% mae2)\n",
        "rmse2 = np.sqrt(mean_squared_error(y_test, rf_pred))\n",
        "print('RMSE: %f'% rmse2 )\n",
        "r22 = r2_score(y_test, rf_pred)\n",
        "print('R2: %f' % r22)"
      ]
    },
    {
      "cell_type": "code",
      "execution_count": 150,
      "metadata": {
        "colab": {
          "base_uri": "https://localhost:8080/",
          "height": 1000
        },
        "id": "sBC9josD4Hy_",
        "outputId": "c6c13fe1-d8c7-44e0-fb0c-2c11cfc21f53"
      },
      "outputs": [
        {
          "name": "stderr",
          "output_type": "stream",
          "text": [
            "<ipython-input-150-51262ef6abba>:4: UserWarning: \n",
            "\n",
            "`distplot` is a deprecated function and will be removed in seaborn v0.14.0.\n",
            "\n",
            "Please adapt your code to use either `displot` (a figure-level function with\n",
            "similar flexibility) or `kdeplot` (an axes-level function for kernel density plots).\n",
            "\n",
            "For a guide to updating your code to use the new functions, please see\n",
            "https://gist.github.com/mwaskom/de44147ed2974457ad6372750bbe5751\n",
            "\n",
            "  ax = sns.distplot(y_test, hist=False, color=\"r\", label=\"Actual Value\")\n",
            "<ipython-input-150-51262ef6abba>:5: UserWarning: \n",
            "\n",
            "`distplot` is a deprecated function and will be removed in seaborn v0.14.0.\n",
            "\n",
            "Please adapt your code to use either `displot` (a figure-level function with\n",
            "similar flexibility) or `kdeplot` (an axes-level function for kernel density plots).\n",
            "\n",
            "For a guide to updating your code to use the new functions, please see\n",
            "https://gist.github.com/mwaskom/de44147ed2974457ad6372750bbe5751\n",
            "\n",
            "  sns.distplot(rf_pred, hist=False, color=\"b\", label=\"Fitted Values\" , ax=ax)\n"
          ]
        },
        {
          "data": {
            "image/png": "[encoded data removed]",
            "text/plain": [
              "<Figure size 500x700 with 1 Axes>"
            ]
          },
          "metadata": {},
          "output_type": "display_data"
        }
      ],
      "source": [
        "plt.figure(figsize=(5, 7))\n",
        "\n",
        "\n",
        "ax = sns.distplot(y_test, hist=False, color=\"r\", label=\"Actual Value\")\n",
        "sns.distplot(rf_pred, hist=False, color=\"b\", label=\"Fitted Values\" , ax=ax)\n",
        "\n",
        "\n",
        "plt.title('Actual(red) vs Fitted(blue) Values for Quality')\n",
        "\n",
        "\n",
        "plt.show()\n",
        "plt.close()"
      ]
    },
    {
      "cell_type": "markdown",
      "metadata": {
        "id": "jJMnZOZV0pZB"
      },
      "source": [
        "**KNN Classifier**"
      ]
    },
    {
      "cell_type": "code",
      "execution_count": 151,
      "metadata": {
        "colab": {
          "base_uri": "https://localhost:8080/",
          "height": 75
        },
        "id": "thULtzFB0rJj",
        "outputId": "a3873571-06d0-4a63-9cf1-0cb84fd5bdf8"
      },
      "outputs": [
        {
          "data": {
            "text/html": [
              "<style>#sk-container-id-3 {color: black;background-color: white;}#sk-container-id-3 pre{padding: 0;}#sk-container-id-3 div.sk-toggleable {background-color: white;}#sk-container-id-3 label.sk-toggleable__label {cursor: pointer;display: block;width: 100%;margin-bottom: 0;padding: 0.3em;box-sizing: border-box;text-align: center;}#sk-container-id-3 label.sk-toggleable__label-arrow:before {content: \"▸\";float: left;margin-right: 0.25em;color: #696969;}#sk-container-id-3 label.sk-toggleable__label-arrow:hover:before {color: black;}#sk-container-id-3 div.sk-estimator:hover label.sk-toggleable__label-arrow:before {color: black;}#sk-container-id-3 div.sk-toggleable__content {max-height: 0;max-width: 0;overflow: hidden;text-align: left;background-color: #f0f8ff;}#sk-container-id-3 div.sk-toggleable__content pre {margin: 0.2em;color: black;border-radius: 0.25em;background-color: #f0f8ff;}#sk-container-id-3 input.sk-toggleable__control:checked~div.sk-toggleable__content {max-height: 200px;max-width: 100%;overflow: auto;}#sk-container-id-3 input.sk-toggleable__control:checked~label.sk-toggleable__label-arrow:before {content: \"▾\";}#sk-container-id-3 div.sk-estimator input.sk-toggleable__control:checked~label.sk-toggleable__label {background-color: #d4ebff;}#sk-container-id-3 div.sk-label input.sk-toggleable__control:checked~label.sk-toggleable__label {background-color: #d4ebff;}#sk-container-id-3 input.sk-hidden--visually {border: 0;clip: rect(1px 1px 1px 1px);clip: rect(1px, 1px, 1px, 1px);height: 1px;margin: -1px;overflow: hidden;padding: 0;position: absolute;width: 1px;}#sk-container-id-3 div.sk-estimator {font-family: monospace;background-color: #f0f8ff;border: 1px dotted black;border-radius: 0.25em;box-sizing: border-box;margin-bottom: 0.5em;}#sk-container-id-3 div.sk-estimator:hover {background-color: #d4ebff;}#sk-container-id-3 div.sk-parallel-item::after {content: \"\";width: 100%;border-bottom: 1px solid gray;flex-grow: 1;}#sk-container-id-3 div.sk-label:hover label.sk-toggleable__label {background-color: #d4ebff;}#sk-container-id-3 div.sk-serial::before {content: \"\";position: absolute;border-left: 1px solid gray;box-sizing: border-box;top: 0;bottom: 0;left: 50%;z-index: 0;}#sk-container-id-3 div.sk-serial {display: flex;flex-direction: column;align-items: center;background-color: white;padding-right: 0.2em;padding-left: 0.2em;position: relative;}#sk-container-id-3 div.sk-item {position: relative;z-index: 1;}#sk-container-id-3 div.sk-parallel {display: flex;align-items: stretch;justify-content: center;background-color: white;position: relative;}#sk-container-id-3 div.sk-item::before, #sk-container-id-3 div.sk-parallel-item::before {content: \"\";position: absolute;border-left: 1px solid gray;box-sizing: border-box;top: 0;bottom: 0;left: 50%;z-index: -1;}#sk-container-id-3 div.sk-parallel-item {display: flex;flex-direction: column;z-index: 1;position: relative;background-color: white;}#sk-container-id-3 div.sk-parallel-item:first-child::after {align-self: flex-end;width: 50%;}#sk-container-id-3 div.sk-parallel-item:last-child::after {align-self: flex-start;width: 50%;}#sk-container-id-3 div.sk-parallel-item:only-child::after {width: 0;}#sk-container-id-3 div.sk-dashed-wrapped {border: 1px dashed gray;margin: 0 0.4em 0.5em 0.4em;box-sizing: border-box;padding-bottom: 0.4em;background-color: white;}#sk-container-id-3 div.sk-label label {font-family: monospace;font-weight: bold;display: inline-block;line-height: 1.2em;}#sk-container-id-3 div.sk-label-container {text-align: center;}#sk-container-id-3 div.sk-container {/* jupyter's `normalize.less` sets `[hidden] { display: none; }` but bootstrap.min.css set `[hidden] { display: none !important; }` so we also need the `!important` here to be able to override the default hidden behavior on the sphinx rendered scikit-learn.org. See: https://github.com/scikit-learn/scikit-learn/issues/21755 */display: inline-block !important;position: relative;}#sk-container-id-3 div.sk-text-repr-fallback {display: none;}</style><div id=\"sk-container-id-3\" class=\"sk-top-container\"><div class=\"sk-text-repr-fallback\"><pre>KNeighborsClassifier(n_neighbors=2)</pre><b>In a Jupyter environment, please rerun this cell to show the HTML representation or trust the notebook. <br />On GitHub, the HTML representation is unable to render, please try loading this page with nbviewer.org.</b></div><div class=\"sk-container\" hidden><div class=\"sk-item\"><div class=\"sk-estimator sk-toggleable\"><input class=\"sk-toggleable__control sk-hidden--visually\" id=\"sk-estimator-id-3\" type=\"checkbox\" checked><label for=\"sk-estimator-id-3\" class=\"sk-toggleable__label sk-toggleable__label-arrow\">KNeighborsClassifier</label><div class=\"sk-toggleable__content\"><pre>KNeighborsClassifier(n_neighbors=2)</pre></div></div></div></div></div>"
            ],
            "text/plain": [
              "KNeighborsClassifier(n_neighbors=2)"
            ]
          },
          "execution_count": 151,
          "metadata": {},
          "output_type": "execute_result"
        }
      ],
      "source": [
        "from sklearn.neighbors import KNeighborsClassifier\n",
        "knn = KNeighborsClassifier(n_neighbors=2)\n",
        "knn.fit(X_train, y_train)"
      ]
    },
    {
      "cell_type": "code",
      "execution_count": 152,
      "metadata": {
        "colab": {
          "base_uri": "https://localhost:8080/"
        },
        "id": "lXJcNU9h4NRO",
        "outputId": "107526d3-7821-4783-df7c-c55d389aacf7"
      },
      "outputs": [
        {
          "name": "stdout",
          "output_type": "stream",
          "text": [
            "--Phase-1--\n",
            "MAE: 0.396238\n",
            "RMSE: 0.629475\n",
            "R2: -0.603627\n"
          ]
        }
      ],
      "source": [
        "knn_pred = knn.predict(X_test)\n",
        "\n",
        "print('--Phase-1--')\n",
        "mae3 = mean_absolute_error(y_test, knn_pred)\n",
        "print('MAE: %f'% mae3)\n",
        "rmse3 = np.sqrt(mean_squared_error(y_test, knn_pred))\n",
        "print('RMSE: %f'% rmse3)\n",
        "r23 = r2_score(y_test, knn_pred)\n",
        "print('R2: %f' % r23)"
      ]
    },
    {
      "cell_type": "code",
      "execution_count": 153,
      "metadata": {
        "colab": {
          "base_uri": "https://localhost:8080/",
          "height": 1000
        },
        "id": "ZohX7nBI4R5q",
        "outputId": "1e44a140-bf7b-4f6b-8a11-4f64baa41bf9"
      },
      "outputs": [
        {
          "name": "stderr",
          "output_type": "stream",
          "text": [
            "<ipython-input-153-cd8ae812c1f2>:4: UserWarning: \n",
            "\n",
            "`distplot` is a deprecated function and will be removed in seaborn v0.14.0.\n",
            "\n",
            "Please adapt your code to use either `displot` (a figure-level function with\n",
            "similar flexibility) or `kdeplot` (an axes-level function for kernel density plots).\n",
            "\n",
            "For a guide to updating your code to use the new functions, please see\n",
            "https://gist.github.com/mwaskom/de44147ed2974457ad6372750bbe5751\n",
            "\n",
            "  ax = sns.distplot(y_test, hist=False, color=\"r\", label=\"Actual Value\")\n",
            "<ipython-input-153-cd8ae812c1f2>:5: UserWarning: \n",
            "\n",
            "`distplot` is a deprecated function and will be removed in seaborn v0.14.0.\n",
            "\n",
            "Please adapt your code to use either `displot` (a figure-level function with\n",
            "similar flexibility) or `kdeplot` (an axes-level function for kernel density plots).\n",
            "\n",
            "For a guide to updating your code to use the new functions, please see\n",
            "https://gist.github.com/mwaskom/de44147ed2974457ad6372750bbe5751\n",
            "\n",
            "  sns.distplot(knn_pred, hist=False, color=\"b\", label=\"Fitted Values\" , ax=ax)\n"
          ]
        },
        {
          "data": {
            "image/png": "[encoded data removed]",
            "text/plain": [
              "<Figure size 500x700 with 1 Axes>"
            ]
          },
          "metadata": {},
          "output_type": "display_data"
        }
      ],
      "source": [
        "plt.figure(figsize=(5, 7))\n",
        "\n",
        "\n",
        "ax = sns.distplot(y_test, hist=False, color=\"r\", label=\"Actual Value\")\n",
        "sns.distplot(knn_pred, hist=False, color=\"b\", label=\"Fitted Values\" , ax=ax)\n",
        "\n",
        "\n",
        "plt.title('Actual(red) vs Fitted(blue) Values for Quality')\n",
        "\n",
        "\n",
        "plt.show()\n",
        "plt.close()"
      ]
    },
    {
      "cell_type": "code",
      "execution_count": 136,
      "metadata": {
        "id": "E4Df1ShJ1XMy"
      },
      "outputs": [],
      "source": [
        "# Splitting Train-set and Validation-set\n",
        "X_train, X_val, y_train, y_val = train_test_split(X_train, y_train, test_size=0.25, random_state=41)"
      ]
    },
    {
      "cell_type": "markdown",
      "metadata": {
        "id": "6OugRI6W1_C2"
      },
      "source": [
        "**Calculating accuracy and confusion matrix**"
      ]
    },
    {
      "cell_type": "code",
      "execution_count": 137,
      "metadata": {
        "id": "ZjOu5OT31asx"
      },
      "outputs": [],
      "source": [
        "# Formula to get accuracy\n",
        "def get_accuracy(y_true, y_preds):\n",
        "    # Getting score of confusion matrix\n",
        "    true_negative, false_positive, false_negative, true_positive = confusion_matrix(y_true, y_preds).ravel()\n",
        "    # Calculating accuracy\n",
        "    accuracy = (true_positive + true_negative)/(true_negative + false_positive + false_negative + true_positive)\n",
        "    return accuracy"
      ]
    },
    {
      "cell_type": "markdown",
      "metadata": {
        "id": "Qx1YogSI1eYL"
      },
      "source": [
        "**Evaluation of accuracy on validation dataset**"
      ]
    },
    {
      "cell_type": "code",
      "execution_count": 138,
      "metadata": {
        "id": "P7_yhMPV1ftm"
      },
      "outputs": [],
      "source": [
        "models = [lr, rf, knn]\n",
        "acc = []\n",
        "for model in models:\n",
        "    preds_val = model.predict(X_val)\n",
        "    accuracy = get_accuracy(y_val, preds_val)\n",
        "    acc.append(accuracy)"
      ]
    },
    {
      "cell_type": "code",
      "execution_count": 139,
      "metadata": {
        "id": "ePmx2Zx71pFR"
      },
      "outputs": [],
      "source": [
        "model_name = ['Logistic Regression', 'Random Forest', 'KNN']\n",
        "accuracy = dict(zip(model_name, acc))"
      ]
    },
    {
      "cell_type": "code",
      "execution_count": 140,
      "metadata": {
        "colab": {
          "base_uri": "https://localhost:8080/",
          "height": 487
        },
        "id": "n_lcNOEm1saZ",
        "outputId": "ecfa76cb-783f-4198-f923-f9cfc1cb6aa8"
      },
      "outputs": [
        {
          "data": {
            "image/png": "[encoded data removed]",
            "text/plain": [
              "<Figure size 1500x500 with 1 Axes>"
            ]
          },
          "metadata": {},
          "output_type": "display_data"
        }
      ],
      "source": [
        "plt.figure(figsize=(15,5))\n",
        "ax = sns.barplot(x = list(accuracy.keys()), y = list(accuracy.values()))\n",
        "for p, value in zip(ax.patches, list(accuracy.values())):\n",
        "    _x = p.get_x() + p.get_width() / 2\n",
        "    _y = p.get_y() + p.get_height() + 0.008\n",
        "    ax.text(_x, _y, round(value, 3), ha=\"center\")\n",
        "plt.xlabel(\"Models\")\n",
        "plt.ylabel(\"Accuracy\")\n",
        "plt.title(\"Model vs. Accuracy\")\n",
        "plt.show()"
      ]
    },
    {
      "cell_type": "markdown",
      "metadata": {
        "id": "vGnt8ZO54nQA"
      },
      "source": [
        "From the above plot, we can see that Random Forest is the most accurate in this case"
      ]
    },
    {
      "cell_type": "markdown",
      "metadata": {
        "id": "HPogumyD2hnM"
      },
      "source": [
        "**Outlier Treatment**"
      ]
    },
    {
      "cell_type": "markdown",
      "metadata": {
        "id": "I8sZ3e7X5cJP"
      },
      "source": [
        "As we know, we have outliers just for the feature 'Length'"
      ]
    },
    {
      "cell_type": "code",
      "execution_count": 227,
      "metadata": {
        "colab": {
          "base_uri": "https://localhost:8080/"
        },
        "id": "nAVPgR4j2l9r",
        "outputId": "1ac2e599-bb48-4730-e7a0-853a60ae715a"
      },
      "outputs": [
        {
          "name": "stdout",
          "output_type": "stream",
          "text": [
            "283.5\n",
            "-40.5\n"
          ]
        }
      ],
      "source": [
        "Q1_Length,Q3_Length = np.percentile(df['Length'] , [25,75])\n",
        "IQR_Length = Q3_Length - Q1_Length\n",
        "\n",
        "U_Length = Q3_Length + 1.5*IQR_Length\n",
        "\n",
        "L_Length = Q1_Length - 1.5*IQR_Length\n",
        "\n",
        "print(U_Length)\n",
        "print(L_Length)\n",
        "\n",
        "df.drop(x[x['Length'] < L_Length].index, inplace=True)\n",
        "df.drop(x[x['Length'] > U_Length].index, inplace=True)\n"
      ]
    },
    {
      "cell_type": "code",
      "execution_count": 228,
      "metadata": {
        "id": "KPpxhRvpC9HR"
      },
      "outputs": [],
      "source": [
        "df['Airline'] = df['Airline'].map(label_encoding(df['Airline']))\n",
        "df['AirportFrom'] = df['AirportFrom'].map(label_encoding(df['AirportFrom']))\n",
        "df['AirportTo'] = df['AirportTo'].map(label_encoding(df['AirportTo']))"
      ]
    },
    {
      "cell_type": "code",
      "execution_count": 229,
      "metadata": {
        "colab": {
          "base_uri": "https://localhost:8080/",
          "height": 300
        },
        "id": "jN5SltlT6UHO",
        "outputId": "dd57febf-5f72-4283-db84-8c8ecdefed36"
      },
      "outputs": [
        {
          "data": {
            "text/html": [
              "\n",
              "  <div id=\"df-6c8d91c7-14b5-4fd3-a022-94611b51c3aa\" class=\"colab-df-container\">\n",
              "    <div>\n",
              "<style scoped>\n",
              "    .dataframe tbody tr th:only-of-type {\n",
              "        vertical-align: middle;\n",
              "    }\n",
              "\n",
              "    .dataframe tbody tr th {\n",
              "        vertical-align: top;\n",
              "    }\n",
              "\n",
              "    .dataframe thead th {\n",
              "        text-align: right;\n",
              "    }\n",
              "</style>\n",
              "<table border=\"1\" class=\"dataframe\">\n",
              "  <thead>\n",
              "    <tr style=\"text-align: right;\">\n",
              "      <th></th>\n",
              "      <th>Airline</th>\n",
              "      <th>Flight</th>\n",
              "      <th>AirportFrom</th>\n",
              "      <th>AirportTo</th>\n",
              "      <th>DayOfWeek</th>\n",
              "      <th>Time</th>\n",
              "      <th>Length</th>\n",
              "      <th>Delay</th>\n",
              "    </tr>\n",
              "  </thead>\n",
              "  <tbody>\n",
              "    <tr>\n",
              "      <th>count</th>\n",
              "      <td>513733.000000</td>\n",
              "      <td>513733.000000</td>\n",
              "      <td>513733.000000</td>\n",
              "      <td>513733.000000</td>\n",
              "      <td>513733.000000</td>\n",
              "      <td>513733.000000</td>\n",
              "      <td>513733.000000</td>\n",
              "      <td>513733.000000</td>\n",
              "    </tr>\n",
              "    <tr>\n",
              "      <th>mean</th>\n",
              "      <td>8.569239</td>\n",
              "      <td>2512.101265</td>\n",
              "      <td>127.950128</td>\n",
              "      <td>127.652876</td>\n",
              "      <td>3.926530</td>\n",
              "      <td>801.281518</td>\n",
              "      <td>121.918140</td>\n",
              "      <td>0.444131</td>\n",
              "    </tr>\n",
              "    <tr>\n",
              "      <th>std</th>\n",
              "      <td>5.409586</td>\n",
              "      <td>2075.356341</td>\n",
              "      <td>92.378115</td>\n",
              "      <td>92.718402</td>\n",
              "      <td>1.914308</td>\n",
              "      <td>276.600049</td>\n",
              "      <td>53.303621</td>\n",
              "      <td>0.496869</td>\n",
              "    </tr>\n",
              "    <tr>\n",
              "      <th>min</th>\n",
              "      <td>0.000000</td>\n",
              "      <td>1.000000</td>\n",
              "      <td>0.000000</td>\n",
              "      <td>0.000000</td>\n",
              "      <td>1.000000</td>\n",
              "      <td>10.000000</td>\n",
              "      <td>0.000000</td>\n",
              "      <td>0.000000</td>\n",
              "    </tr>\n",
              "    <tr>\n",
              "      <th>25%</th>\n",
              "      <td>3.000000</td>\n",
              "      <td>770.000000</td>\n",
              "      <td>35.000000</td>\n",
              "      <td>35.000000</td>\n",
              "      <td>2.000000</td>\n",
              "      <td>570.000000</td>\n",
              "      <td>80.000000</td>\n",
              "      <td>0.000000</td>\n",
              "    </tr>\n",
              "    <tr>\n",
              "      <th>50%</th>\n",
              "      <td>8.000000</td>\n",
              "      <td>1915.000000</td>\n",
              "      <td>105.000000</td>\n",
              "      <td>104.000000</td>\n",
              "      <td>4.000000</td>\n",
              "      <td>795.000000</td>\n",
              "      <td>111.000000</td>\n",
              "      <td>0.000000</td>\n",
              "    </tr>\n",
              "    <tr>\n",
              "      <th>75%</th>\n",
              "      <td>14.000000</td>\n",
              "      <td>3863.000000</td>\n",
              "      <td>217.000000</td>\n",
              "      <td>218.000000</td>\n",
              "      <td>5.000000</td>\n",
              "      <td>1030.000000</td>\n",
              "      <td>155.000000</td>\n",
              "      <td>1.000000</td>\n",
              "    </tr>\n",
              "    <tr>\n",
              "      <th>max</th>\n",
              "      <td>17.000000</td>\n",
              "      <td>7814.000000</td>\n",
              "      <td>291.000000</td>\n",
              "      <td>291.000000</td>\n",
              "      <td>7.000000</td>\n",
              "      <td>1439.000000</td>\n",
              "      <td>283.000000</td>\n",
              "      <td>1.000000</td>\n",
              "    </tr>\n",
              "  </tbody>\n",
              "</table>\n",
              "</div>\n",
              "    <div class=\"colab-df-buttons\">\n",
              "\n",
              "  <div class=\"colab-df-container\">\n",
              "    <button class=\"colab-df-convert\" onclick=\"convertToInteractive('df-6c8d91c7-14b5-4fd3-a022-94611b51c3aa')\"\n",
              "            title=\"Convert this dataframe to an interactive table.\"\n",
              "            style=\"display:none;\">\n",
              "\n",
              "  <svg xmlns=\"http://www.w3.org/2000/svg\" height=\"24px\" viewBox=\"0 -960 960 960\">\n",
              "    <path d=\"M120-120v-720h720v720H120Zm60-500h600v-160H180v160Zm220 220h160v-160H400v160Zm0 220h160v-160H400v160ZM180-400h160v-160H180v160Zm440 0h160v-160H620v160ZM180-180h160v-160H180v160Zm440 0h160v-160H620v160Z\"/>\n",
              "  </svg>\n",
              "    </button>\n",
              "\n",
              "  <style>\n",
              "    .colab-df-container {\n",
              "      display:flex;\n",
              "      gap: 12px;\n",
              "    }\n",
              "\n",
              "    .colab-df-convert {\n",
              "      background-color: #E8F0FE;\n",
              "      border: none;\n",
              "      border-radius: 50%;\n",
              "      cursor: pointer;\n",
              "      display: none;\n",
              "      fill: #1967D2;\n",
              "      height: 32px;\n",
              "      padding: 0 0 0 0;\n",
              "      width: 32px;\n",
              "    }\n",
              "\n",
              "    .colab-df-convert:hover {\n",
              "      background-color: #E2EBFA;\n",
              "      box-shadow: 0px 1px 2px rgba(60, 64, 67, 0.3), 0px 1px 3px 1px rgba(60, 64, 67, 0.15);\n",
              "      fill: #174EA6;\n",
              "    }\n",
              "\n",
              "    .colab-df-buttons div {\n",
              "      margin-bottom: 4px;\n",
              "    }\n",
              "\n",
              "    [theme=dark] .colab-df-convert {\n",
              "      background-color: #3B4455;\n",
              "      fill: #D2E3FC;\n",
              "    }\n",
              "\n",
              "    [theme=dark] .colab-df-convert:hover {\n",
              "      background-color: #434B5C;\n",
              "      box-shadow: 0px 1px 3px 1px rgba(0, 0, 0, 0.15);\n",
              "      filter: drop-shadow(0px 1px 2px rgba(0, 0, 0, 0.3));\n",
              "      fill: #FFFFFF;\n",
              "    }\n",
              "  </style>\n",
              "\n",
              "    <script>\n",
              "      const buttonEl =\n",
              "        document.querySelector('#df-6c8d91c7-14b5-4fd3-a022-94611b51c3aa button.colab-df-convert');\n",
              "      buttonEl.style.display =\n",
              "        google.colab.kernel.accessAllowed ? 'block' : 'none';\n",
              "\n",
              "      async function convertToInteractive(key) {\n",
              "        const element = document.querySelector('#df-6c8d91c7-14b5-4fd3-a022-94611b51c3aa');\n",
              "        const dataTable =\n",
              "          await google.colab.kernel.invokeFunction('convertToInteractive',\n",
              "                                                    [key], {});\n",
              "        if (!dataTable) return;\n",
              "\n",
              "        const docLinkHtml = 'Like what you see? Visit the ' +\n",
              "          '<a target=\"_blank\" href=https://colab.research.google.com/notebooks/data_table.ipynb>data table notebook</a>'\n",
              "          + ' to learn more about interactive tables.';\n",
              "        element.innerHTML = '';\n",
              "        dataTable['output_type'] = 'display_data';\n",
              "        await google.colab.output.renderOutput(dataTable, element);\n",
              "        const docLink = document.createElement('div');\n",
              "        docLink.innerHTML = docLinkHtml;\n",
              "        element.appendChild(docLink);\n",
              "      }\n",
              "    </script>\n",
              "  </div>\n",
              "\n",
              "\n",
              "<div id=\"df-31361749-8a17-445b-900d-860e67ae59a5\">\n",
              "  <button class=\"colab-df-quickchart\" onclick=\"quickchart('df-31361749-8a17-445b-900d-860e67ae59a5')\"\n",
              "            title=\"Suggest charts.\"\n",
              "            style=\"display:none;\">\n",
              "\n",
              "<svg xmlns=\"http://www.w3.org/2000/svg\" height=\"24px\"viewBox=\"0 0 24 24\"\n",
              "     width=\"24px\">\n",
              "    <g>\n",
              "        <path d=\"M19 3H5c-1.1 0-2 .9-2 2v14c0 1.1.9 2 2 2h14c1.1 0 2-.9 2-2V5c0-1.1-.9-2-2-2zM9 17H7v-7h2v7zm4 0h-2V7h2v10zm4 0h-2v-4h2v4z\"/>\n",
              "    </g>\n",
              "</svg>\n",
              "  </button>\n",
              "\n",
              "<style>\n",
              "  .colab-df-quickchart {\n",
              "      --bg-color: #E8F0FE;\n",
              "      --fill-color: #1967D2;\n",
              "      --hover-bg-color: #E2EBFA;\n",
              "      --hover-fill-color: #174EA6;\n",
              "      --disabled-fill-color: #AAA;\n",
              "      --disabled-bg-color: #DDD;\n",
              "  }\n",
              "\n",
              "  [theme=dark] .colab-df-quickchart {\n",
              "      --bg-color: #3B4455;\n",
              "      --fill-color: #D2E3FC;\n",
              "      --hover-bg-color: #434B5C;\n",
              "      --hover-fill-color: #FFFFFF;\n",
              "      --disabled-bg-color: #3B4455;\n",
              "      --disabled-fill-color: #666;\n",
              "  }\n",
              "\n",
              "  .colab-df-quickchart {\n",
              "    background-color: var(--bg-color);\n",
              "    border: none;\n",
              "    border-radius: 50%;\n",
              "    cursor: pointer;\n",
              "    display: none;\n",
              "    fill: var(--fill-color);\n",
              "    height: 32px;\n",
              "    padding: 0;\n",
              "    width: 32px;\n",
              "  }\n",
              "\n",
              "  .colab-df-quickchart:hover {\n",
              "    background-color: var(--hover-bg-color);\n",
              "    box-shadow: 0 1px 2px rgba(60, 64, 67, 0.3), 0 1px 3px 1px rgba(60, 64, 67, 0.15);\n",
              "    fill: var(--button-hover-fill-color);\n",
              "  }\n",
              "\n",
              "  .colab-df-quickchart-complete:disabled,\n",
              "  .colab-df-quickchart-complete:disabled:hover {\n",
              "    background-color: var(--disabled-bg-color);\n",
              "    fill: var(--disabled-fill-color);\n",
              "    box-shadow: none;\n",
              "  }\n",
              "\n",
              "  .colab-df-spinner {\n",
              "    border: 2px solid var(--fill-color);\n",
              "    border-color: transparent;\n",
              "    border-bottom-color: var(--fill-color);\n",
              "    animation:\n",
              "      spin 1s steps(1) infinite;\n",
              "  }\n",
              "\n",
              "  @keyframes spin {\n",
              "    0% {\n",
              "      border-color: transparent;\n",
              "      border-bottom-color: var(--fill-color);\n",
              "      border-left-color: var(--fill-color);\n",
              "    }\n",
              "    20% {\n",
              "      border-color: transparent;\n",
              "      border-left-color: var(--fill-color);\n",
              "      border-top-color: var(--fill-color);\n",
              "    }\n",
              "    30% {\n",
              "      border-color: transparent;\n",
              "      border-left-color: var(--fill-color);\n",
              "      border-top-color: var(--fill-color);\n",
              "      border-right-color: var(--fill-color);\n",
              "    }\n",
              "    40% {\n",
              "      border-color: transparent;\n",
              "      border-right-color: var(--fill-color);\n",
              "      border-top-color: var(--fill-color);\n",
              "    }\n",
              "    60% {\n",
              "      border-color: transparent;\n",
              "      border-right-color: var(--fill-color);\n",
              "    }\n",
              "    80% {\n",
              "      border-color: transparent;\n",
              "      border-right-color: var(--fill-color);\n",
              "      border-bottom-color: var(--fill-color);\n",
              "    }\n",
              "    90% {\n",
              "      border-color: transparent;\n",
              "      border-bottom-color: var(--fill-color);\n",
              "    }\n",
              "  }\n",
              "</style>\n",
              "\n",
              "  <script>\n",
              "    async function quickchart(key) {\n",
              "      const quickchartButtonEl =\n",
              "        document.querySelector('#' + key + ' button');\n",
              "      quickchartButtonEl.disabled = true;  // To prevent multiple clicks.\n",
              "      quickchartButtonEl.classList.add('colab-df-spinner');\n",
              "      try {\n",
              "        const charts = await google.colab.kernel.invokeFunction(\n",
              "            'suggestCharts', [key], {});\n",
              "      } catch (error) {\n",
              "        console.error('Error during call to suggestCharts:', error);\n",
              "      }\n",
              "      quickchartButtonEl.classList.remove('colab-df-spinner');\n",
              "      quickchartButtonEl.classList.add('colab-df-quickchart-complete');\n",
              "    }\n",
              "    (() => {\n",
              "      let quickchartButtonEl =\n",
              "        document.querySelector('#df-31361749-8a17-445b-900d-860e67ae59a5 button');\n",
              "      quickchartButtonEl.style.display =\n",
              "        google.colab.kernel.accessAllowed ? 'block' : 'none';\n",
              "    })();\n",
              "  </script>\n",
              "</div>\n",
              "    </div>\n",
              "  </div>\n"
            ],
            "text/plain": [
              "             Airline         Flight    AirportFrom      AirportTo  \\\n",
              "count  513733.000000  513733.000000  513733.000000  513733.000000   \n",
              "mean        8.569239    2512.101265     127.950128     127.652876   \n",
              "std         5.409586    2075.356341      92.378115      92.718402   \n",
              "min         0.000000       1.000000       0.000000       0.000000   \n",
              "25%         3.000000     770.000000      35.000000      35.000000   \n",
              "50%         8.000000    1915.000000     105.000000     104.000000   \n",
              "75%        14.000000    3863.000000     217.000000     218.000000   \n",
              "max        17.000000    7814.000000     291.000000     291.000000   \n",
              "\n",
              "           DayOfWeek           Time         Length          Delay  \n",
              "count  513733.000000  513733.000000  513733.000000  513733.000000  \n",
              "mean        3.926530     801.281518     121.918140       0.444131  \n",
              "std         1.914308     276.600049      53.303621       0.496869  \n",
              "min         1.000000      10.000000       0.000000       0.000000  \n",
              "25%         2.000000     570.000000      80.000000       0.000000  \n",
              "50%         4.000000     795.000000     111.000000       0.000000  \n",
              "75%         5.000000    1030.000000     155.000000       1.000000  \n",
              "max         7.000000    1439.000000     283.000000       1.000000  "
            ]
          },
          "execution_count": 229,
          "metadata": {},
          "output_type": "execute_result"
        }
      ],
      "source": [
        "df.describe()"
      ]
    },
    {
      "cell_type": "code",
      "execution_count": 230,
      "metadata": {
        "colab": {
          "base_uri": "https://localhost:8080/"
        },
        "id": "nwrgQSvL7uEw",
        "outputId": "1aea2421-4230-4082-8c35-a5a37297ee96"
      },
      "outputs": [
        {
          "data": {
            "text/plain": [
              "(513733, 7)"
            ]
          },
          "execution_count": 230,
          "metadata": {},
          "output_type": "execute_result"
        }
      ],
      "source": [
        "cleaned_x, cleaned_y = df.iloc[:,:7], df.iloc[:,-1]\n",
        "cleaned_x.shape"
      ]
    },
    {
      "cell_type": "code",
      "execution_count": 231,
      "metadata": {
        "id": "6zYj8Rql74LR"
      },
      "outputs": [],
      "source": [
        "scaler = StandardScaler()\n",
        "cleaned_x = scaler.fit_transform(cleaned_x)"
      ]
    },
    {
      "cell_type": "code",
      "execution_count": 233,
      "metadata": {
        "id": "ng38637d7_UF"
      },
      "outputs": [],
      "source": [
        "#Splitting the dataset after outlier treatment into Train and Test sets at 80-20 proportion\n",
        "Xclean_train, Xclean_test, yclean_train, yclean_test = train_test_split(cleaned_x, cleaned_y, test_size=0.2,random_state=42)\n"
      ]
    },
    {
      "cell_type": "markdown",
      "metadata": {
        "id": "qCu7vdO-8fOS"
      },
      "source": [
        "# Remove outliers and keep outliers (does if have an effect of the final predictive model)?"
      ]
    },
    {
      "cell_type": "markdown",
      "metadata": {
        "id": "_fSHAvgS81lP"
      },
      "source": [
        "**Logistic Regression**"
      ]
    },
    {
      "cell_type": "code",
      "execution_count": 234,
      "metadata": {
        "colab": {
          "base_uri": "https://localhost:8080/"
        },
        "id": "fVeDHd8H8kDd",
        "outputId": "2e74ad82-2e2e-47cd-f163-0704132a6409"
      },
      "outputs": [
        {
          "name": "stdout",
          "output_type": "stream",
          "text": [
            "--Phase-1--\n",
            "MAE: 0.414908\n",
            "RMSE: 0.644133\n",
            "R2: -0.679184\n",
            "--Phase-2--\n",
            "MAE: 0.409774\n",
            "RMSE: 0.640136\n",
            "R2: -0.659687\n"
          ]
        }
      ],
      "source": [
        "lr.fit(Xclean_train, yclean_train)\n",
        "\n",
        "lrclean_pred= lr.predict(Xclean_test)\n",
        "\n",
        "print('--Phase-1--')\n",
        "print('MAE: %f'% mae1)\n",
        "print('RMSE: %f'% rmse1)\n",
        "print('R2: %f' % r21)\n",
        "\n",
        "print('--Phase-2--')\n",
        "print('MAE: %f'% mean_absolute_error(yclean_test, lrclean_pred))\n",
        "print('RMSE: %f'% np.sqrt(mean_squared_error(yclean_test, lrclean_pred)))\n",
        "print('R2: %f' % r2_score(yclean_test, lrclean_pred))"
      ]
    },
    {
      "cell_type": "markdown",
      "metadata": {
        "id": "QMGwB7t0DmQZ"
      },
      "source": [
        "**Random Forest**"
      ]
    },
    {
      "cell_type": "code",
      "execution_count": 235,
      "metadata": {
        "colab": {
          "base_uri": "https://localhost:8080/"
        },
        "id": "Ws2UlttDDo3_",
        "outputId": "f14cc8ac-fd02-407f-b21a-47fbcefda506"
      },
      "outputs": [
        {
          "name": "stdout",
          "output_type": "stream",
          "text": [
            "--Phase-1--\n",
            "MAE: 0.380730\n",
            "RMSE: 0.617033\n",
            "R2: -0.540862\n",
            "--Phase-2--\n",
            "MAE: 0.378279\n",
            "RMSE: 0.615044\n",
            "R2: -0.532125\n"
          ]
        }
      ],
      "source": [
        "rf.fit(Xclean_train, yclean_train)\n",
        "rfclean_pred = rf.predict(Xclean_test)\n",
        "\n",
        "print('--Phase-1--')\n",
        "print('MAE: %f'% mae2)\n",
        "print('RMSE: %f'% rmse2)\n",
        "print('R2: %f' % r22)\n",
        "\n",
        "print('--Phase-2--')\n",
        "print('MAE: %f'% mean_absolute_error(yclean_test, rfclean_pred))\n",
        "print('RMSE: %f'% np.sqrt(mean_squared_error(yclean_test, rfclean_pred)))\n",
        "print('R2: %f' % r2_score(yclean_test, rfclean_pred))"
      ]
    },
    {
      "cell_type": "markdown",
      "metadata": {
        "id": "pERzF0EyEAdZ"
      },
      "source": [
        "**KNN**"
      ]
    },
    {
      "cell_type": "code",
      "execution_count": 236,
      "metadata": {
        "colab": {
          "base_uri": "https://localhost:8080/"
        },
        "id": "3Wzb8g7VEDVS",
        "outputId": "b218a28e-a5f1-495f-fff2-e4ea000dd93a"
      },
      "outputs": [
        {
          "name": "stdout",
          "output_type": "stream",
          "text": [
            "--Phase-1--\n",
            "MAE: 0.396238\n",
            "RMSE: 0.629475\n",
            "R2: -0.603627\n",
            "--Phase-2--\n",
            "MAE: 0.389150\n",
            "RMSE: 0.623819\n",
            "R2: -0.576157\n"
          ]
        }
      ],
      "source": [
        "knn.fit(Xclean_train, yclean_train)\n",
        "knnclean_pred = knn.predict(Xclean_test)\n",
        "\n",
        "print('--Phase-1--')\n",
        "print('MAE: %f'% mae3)\n",
        "print('RMSE: %f'% rmse3)\n",
        "print('R2: %f' % r23)\n",
        "\n",
        "print('--Phase-2--')\n",
        "print('MAE: %f'% mean_absolute_error(yclean_test, knnclean_pred))\n",
        "print('RMSE: %f'% np.sqrt(mean_squared_error(yclean_test, knnclean_pred)))\n",
        "print('R2: %f' % r2_score(yclean_test, knnclean_pred))"
      ]
    },
    {
      "cell_type": "markdown",
      "metadata": {
        "id": "z79T_hKEEl5-"
      },
      "source": [
        "As we can see above, there's not a lot of difference after removing outliers. The results for both the phases are approximately the same"
      ]
    },
    {
      "cell_type": "markdown",
      "metadata": {
        "id": "unDUgnUQFpKv"
      },
      "source": [
        "# Remove 1%, 5%, and 10% of your data randomly and impute the values back using at least 3 imputation methods. How well did the methods recover the missing values?\n"
      ]
    },
    {
      "cell_type": "code",
      "execution_count": 260,
      "metadata": {
        "id": "k27wNPu7LA8q"
      },
      "outputs": [],
      "source": [
        "# Defined a function to calculate the MSE by imputing with mean and median\n",
        "def get_MSE_by_imputing_missing_values(temp, feature, fraction_to_miss):\n",
        "    # Creating one more feature to remove 1% values from it.\n",
        "    temp[f'{feature}_imputed'] = df[feature]\n",
        "\n",
        "    # Imputing 10% of Feature_imputed with Null values\n",
        "    temp.loc[temp.sample(frac=fraction_to_miss).index, feature] = np.NaN\n",
        "    print(f\"Missing values count before imputting with Mean: {temp[feature].isnull().sum()}\")\n",
        "\n",
        "    print(\"\\n----------Imputing with Mean ----------\")\n",
        "    # Imputing with Mean.\n",
        "    temp[feature] = temp[feature].fillna(temp[feature].mean())\n",
        "    print(f\"Missing values count After imputting with Mean: {temp[feature].isnull().sum()}\")\n",
        "    print(f\"Mean Squared Error by Imputing with Mean of same Feature: {(mean_squared_error(temp[feature],temp[f'{feature}_imputed'])).round(4)}\")\n",
        "\n",
        "    # Imputing Feature_imputed with Null values\n",
        "    temp.loc[temp.sample(frac=fraction_to_miss).index, feature] = np.NaN\n",
        "    print(f\"\\nMissing values count before imputting with Median: {temp[feature].isnull().sum()}\")\n",
        "\n",
        "    print(\"----------Imputing with Median ----------\")\n",
        "    # Imputing with Median.\n",
        "    temp[feature] = temp[feature].fillna(temp[feature].median())\n",
        "    print(f\"Missing values count: {temp[feature].isnull().sum()}\")\n",
        "    print(f\"Mean Squared Error by Imputing with Median of same Feature: {(mean_squared_error(temp[feature],temp[f'{feature}_imputed'])).round(4)}\")\n",
        "\n"
      ]
    },
    {
      "cell_type": "markdown",
      "metadata": {
        "id": "DacHFw4lL9MU"
      },
      "source": [
        "**1%**"
      ]
    },
    {
      "cell_type": "code",
      "execution_count": 261,
      "metadata": {
        "colab": {
          "base_uri": "https://localhost:8080/"
        },
        "id": "9kN40CVFLV-Z",
        "outputId": "af239e7b-55e7-4337-ed65-b5f83e07c5c6"
      },
      "outputs": [
        {
          "name": "stdout",
          "output_type": "stream",
          "text": [
            "Missing values count before imputting with Mean: 5137\n",
            "\n",
            "----------Imputing with Mean ----------\n",
            "Missing values count After imputting with Mean: 0\n",
            "Mean Squared Error by Imputing with Mean of same Feature: 0.283\n",
            "\n",
            "Missing values count before imputting with Median: 5137\n",
            "----------Imputing with Median ----------\n",
            "Missing values count: 0\n",
            "Mean Squared Error by Imputing with Median of same Feature: 0.5706\n"
          ]
        }
      ],
      "source": [
        "temp = df.copy()\n",
        "\n",
        "# lets say I want to remove values from feature and impute it using few methods\n",
        "feature = 'Airline'\n",
        "fraction_to_miss = 0.01\n",
        "\n",
        "get_MSE_by_imputing_missing_values(temp, feature, fraction_to_miss)\n",
        "\n"
      ]
    },
    {
      "cell_type": "markdown",
      "metadata": {
        "id": "ni090gdmMHnc"
      },
      "source": [
        "**5%**"
      ]
    },
    {
      "cell_type": "code",
      "execution_count": 251,
      "metadata": {
        "colab": {
          "base_uri": "https://localhost:8080/"
        },
        "id": "VptrG5FPMFMA",
        "outputId": "3d79c198-90f0-45d5-802b-af662b7e9eae"
      },
      "outputs": [
        {
          "name": "stdout",
          "output_type": "stream",
          "text": [
            "Missing values count before imputting with Mean: 25687\n",
            "\n",
            "----------Imputing with Mean ----------\n",
            "Missing values count After imputting with Mean: 0\n",
            "Mean Squared Error by Imputing with Mean of same Feature: 1.4585\n",
            "\n",
            "Missing values count before imputting with Median: 25687\n",
            "----------Imputing with Median ----------\n",
            "Missing values count: 0\n",
            "Mean Squared Error by Imputing with Median of same Feature: 2.8579\n"
          ]
        }
      ],
      "source": [
        "temp = df.copy()\n",
        "\n",
        "# lets say I want to remove values from feature and impute it using few methods\n",
        "feature = 'Airline'\n",
        "fraction_to_miss = 0.05\n",
        "\n",
        "get_MSE_by_imputing_missing_values(temp, feature, fraction_to_miss)"
      ]
    },
    {
      "cell_type": "markdown",
      "metadata": {
        "id": "t9iMvBXqMLDC"
      },
      "source": [
        "**10%**"
      ]
    },
    {
      "cell_type": "code",
      "execution_count": 252,
      "metadata": {
        "colab": {
          "base_uri": "https://localhost:8080/"
        },
        "id": "6dKy81qMMOTh",
        "outputId": "dd4b4e51-7af6-48c4-ebd9-9f91f7056b6d"
      },
      "outputs": [
        {
          "name": "stdout",
          "output_type": "stream",
          "text": [
            "Missing values count before imputting with Mean: 51373\n",
            "\n",
            "----------Imputing with Mean ----------\n",
            "Missing values count After imputting with Mean: 0\n",
            "Mean Squared Error by Imputing with Mean of same Feature: 2.9324\n",
            "\n",
            "Missing values count before imputting with Median: 51373\n",
            "----------Imputing with Median ----------\n",
            "Missing values count: 0\n",
            "Mean Squared Error by Imputing with Median of same Feature: 5.5599\n"
          ]
        }
      ],
      "source": [
        "temp = df.copy()\n",
        "\n",
        "# lets say I want to remove values from feature and impute it using few methods\n",
        "feature = 'Airline'\n",
        "fraction_to_miss = 0.10\n",
        "\n",
        "get_MSE_by_imputing_missing_values(temp, feature, fraction_to_miss)"
      ]
    },
    {
      "cell_type": "markdown",
      "metadata": {
        "id": "wly4XSGtPDI-"
      },
      "source": [
        "Imputing the missing data using Median has double the error of Imputing the missing data using Mean irrespective of the size of data imputed."
      ]
    },
    {
      "cell_type": "markdown",
      "metadata": {
        "id": "ESDc2sHjPUi9"
      },
      "source": [
        "# Citations/ References"
      ]
    },
    {
      "cell_type": "markdown",
      "metadata": {
        "id": "AMPG_GL_PW0O"
      },
      "source": [
        "1. Many techniques used in this notebook have been adopted from the following github repositories\n",
        "\n",
        "\n",
        "\n",
        "*  Owner - AI Skunkworks - Link - https://github.com/aiskunks/Skunks_Skool\n",
        "*   Author name - Prof Nik Bear Brown\n",
        "Link - https://github.com/nikbearbrown/\n",
        "\n",
        "2. I took the reference code for creating the function for the imputation task from the above listed github repository as well\n",
        "\n",
        "3. Chatgpt also helped with understanding some of the questions\n",
        "\n",
        "4. The methods and parameters of the models amd code corrections have been adapted from stackoverflow\n",
        "\n",
        "Link - https://stackoverflow.com\n",
        "\n",
        "\n",
        "\n",
        "\n",
        "\n",
        "\n"
      ]
    },
    {
      "cell_type": "markdown",
      "metadata": {
        "id": "Q31rRNibQZ8H"
      },
      "source": [
        "# Licensing"
      ]
    },
    {
      "cell_type": "markdown",
      "metadata": {
        "id": "el_wQp-KQcEx"
      },
      "source": [
        "Copyright 2023\n",
        "\n",
        "Permission is hereby granted, free of charge, to any person obtaining a copy of this software and associated documentation files (the \"Software\"), to deal in the Software without restriction, including without limitation the rights to use, copy, modify, merge, publish, distribute, sublicense, and/or sell copies of the Software, and to permit persons to whom the Software is furnished to do so, subject to the following conditions:\n",
        "\n",
        "The above copyright notice and this permission notice shall be included in all copies or substantial portions of the Software.\n",
        "\n",
        "THE SOFTWARE IS PROVIDED \"AS IS\", WITHOUT WARRANTY OF ANY KIND, EXPRESS OR IMPLIED, INCLUDING BUT NOT LIMITED TO THE WARRANTIES OF MERCHANTABILITY, FITNESS FOR A PARTICULAR PURPOSE AND NONINFRINGEMENT. IN NO EVENT SHALL THE AUTHORS OR COPYRIGHT HOLDERS BE LIABLE FOR ANY CLAIM, DAMAGES OR OTHER LIABILITY, WHETHER IN AN ACTION OF CONTRACT, TORT OR OTHERWISE, ARISING FROM, OUT OF OR IN CONNECTION WITH THE SOFTWARE OR THE USE OR OTHER DEALINGS IN THE SOFTWARE."
      ]
    },
    {
      "cell_type": "code",
      "execution_count": null,
      "metadata": {
        "id": "qqMilMwMQf0b"
      },
      "outputs": [],
      "source": []
    }
  ],
  "metadata": {
    "colab": {
      "provenance": []
    },
    "kernelspec": {
      "display_name": "Python 3",
      "name": "python3"
    },
    "language_info": {
      "name": "python"
    }
  },
  "nbformat": 4,
  "nbformat_minor": 0
}
